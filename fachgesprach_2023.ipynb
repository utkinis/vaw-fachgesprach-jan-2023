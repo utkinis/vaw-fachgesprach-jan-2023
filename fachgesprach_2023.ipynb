{
 "cells": [
  {
   "cell_type": "markdown",
   "metadata": {
    "name": "A slide ",
    "slideshow": {
     "slide_type": "slide"
    }
   },
   "source": [
    "# Introduction to differentiable modelling\n",
    "## Demystifying the adjoint method\n",
    "_Ivan Utkin_\n",
    "\n",
    "VAW, 13 January 2023"
   ]
  },
  {
   "cell_type": "markdown",
   "metadata": {
    "name": "A slide ",
    "slideshow": {
     "slide_type": "slide"
    }
   },
   "source": [
    "## Motivation\n",
    "\n",
    "Let's broadly classify models as being either _physics-bases_ or _data-driven_.\n",
    "\n",
    "Physics-based models| Data-driven models\n",
    ":-------------------|:-----------------\n",
    "✅ Allow us to explain the observations                   | ✅ Can capture complex nonlinear effects\n",
    "✅ Respect laws of physics (mass/momentum/energy balance) | ✅ Are computationally efficient\n",
    "❌ Incorporating all relevant effects is often impossible | ❌ Need vast amounts of data for training\n",
    "❌ Resolving scales is computationally challenging        | ❌ Data is sparse → training should be constrained\n",
    "\n",
    "Modern approaches to modelling include both data-driven and physics-based components.\n",
    "\n",
    "These components need to be calibrated to match observations and experimental data."
   ]
  },
  {
   "cell_type": "markdown",
   "metadata": {
    "name": "A slide ",
    "slideshow": {
     "slide_type": "slide"
    }
   },
   "source": [
    "__The purpose of this talk is to explain in simple terms the state-of-the-art in model calibration, applicable to both physics-based and data-driven approaches, and combinations thereof.__\n",
    "\n",
    "<center><img src=\"figures/PIANN.png\" width=\"40%\"/></center>\n",
    "\n",
    "<font size=\"4\">Riel, B., Minchew, B., and Bischoff, T. \"Data‐Driven Inference of the Mechanics of Slip Along Glacier Beds Using Physics‐Informed Neural Networks: Case Study on Rutford Ice Stream, Antarctica.\" _Journal of Advances in Modeling Earth Systems_ (2021).</font>"
   ]
  },
  {
   "cell_type": "markdown",
   "metadata": {
    "name": "A slide ",
    "slideshow": {
     "slide_type": "slide"
    }
   },
   "source": [
    "## What is a model?\n",
    "\n",
    "A mapping between inputs $\\boldsymbol{X}$ and outputs $\\boldsymbol{Y}$ parametrised by $\\boldsymbol{\\lambda}$ (control):\n",
    "\n",
    "$$\n",
    "    \\boldsymbol{Y} = U(\\boldsymbol{X},\\boldsymbol{\\lambda})\n",
    "$$"
   ]
  },
  {
   "cell_type": "markdown",
   "metadata": {
    "name": "A slide ",
    "slideshow": {
     "slide_type": "fragment"
    }
   },
   "source": [
    "Examples:\n",
    "\n",
    "- Linear model: $U(\\boldsymbol{X},\\boldsymbol{\\lambda}) = \\boldsymbol{X}\\boldsymbol{\\lambda} + \\boldsymbol{\\varepsilon}$;\n",
    "- PDE-based model: $\\mathcal{L}(U(\\boldsymbol{X},\\boldsymbol{\\lambda})) = 0$, $\\mathcal{L}$ — differential operator;\n",
    "- ML-based model: $U(\\boldsymbol{X},\\boldsymbol{\\lambda})$ is the output of a neural network/decision tree/etc."
   ]
  },
  {
   "cell_type": "markdown",
   "metadata": {
    "name": "A slide ",
    "slideshow": {
     "slide_type": "slide"
    }
   },
   "source": [
    "## How to calibrate a model?\n",
    "\n",
    "The goal is to find $\\boldsymbol{\\lambda}$ that minimises the deviation of the model from available data $\\boldsymbol{Y}_\\text{obs}$.\n",
    "\n",
    "We describe this deviation by introducing the objective function $J(\\boldsymbol{Y},\\boldsymbol{Y}^\\text{obs})$.\n",
    "\n",
    "Important example is the root-mean-square-deviation (RMSD):\n",
    "\n",
    "$$\n",
    "    J(\\boldsymbol{Y},\\boldsymbol{Y}^\\text{obs}) = \\sqrt{\\frac{1}{N}\\sum_{i=1}^{N}\\left(Y_i - Y^\\text{obs}_i\\right)^2}\n",
    "$$"
   ]
  },
  {
   "cell_type": "markdown",
   "metadata": {
    "name": "A slide ",
    "slideshow": {
     "slide_type": "fragment"
    }
   },
   "source": [
    "> 📖 __objective function__ == __loss function__ == __cost function__\n",
    ">\n",
    "> 📖 __model calibration__ == __training__ == __learning__ == __inversion__"
   ]
  },
  {
   "cell_type": "markdown",
   "metadata": {
    "name": "A slide ",
    "slideshow": {
     "slide_type": "slide"
    }
   },
   "source": [
    "We can reformulate the calibration problem as a minimisation problem:\n",
    "$\\newcommand{\\argmin}{\\mathop{\\mathrm{argmin}}\\limits}$\n",
    "$$\n",
    "\\boldsymbol{\\lambda}_\\mathrm{opt} = \\argmin_\\boldsymbol{\\lambda} J\\left(\\boldsymbol{\\lambda}\\right)\n",
    "$$\n",
    "\n",
    "Sometimes, this minimum can be approximately discovered by:\n",
    "\n",
    "- Brute-force grid search in the parameter space\n",
    "- Expert-guided trial-and-error approach\n",
    "\n",
    "With growing dimensionality of problems (billions of degrees of freedom), _automated and efficient ways to calibrate the models are needed_."
   ]
  },
  {
   "cell_type": "markdown",
   "metadata": {
    "name": "A slide ",
    "slideshow": {
     "slide_type": "slide"
    }
   },
   "source": [
    "## Introducing gradient descent\n",
    "\n",
    "Suggested first by Cauchy in 1847, the gradient descent method still remains one of the key building blocks in the model training algorithms.\n",
    "\n",
    "The idea of the method is to iteratively step in the direction opposite to the gradient of the objective function $J$ at the current point $\\boldsymbol{\\lambda}$:\n",
    "\n",
    "<table><tr>\n",
    "<td>\n",
    "$$\n",
    "\\boldsymbol{\\lambda}_{i+1} = \\boldsymbol{\\lambda}_i - \\gamma\\frac{\\mathrm{d}J}{\\mathrm{d}\\boldsymbol{\\lambda}},\\quad i = 1 .. n_\\mathrm{iter}~,\n",
    "$$\n",
    "\n",
    "where $\\gamma$ is the step size.\n",
    "\n",
    "> 📖 __iteration__ == __epoch__\n",
    ">\n",
    "> 📖 __step size__ == __learning rate__\n",
    "</td>\n",
    "<td> <img src=\"figures/gradient_descent.gif\" alt=\"Drawing\" style=\"height: 300px;\"/> </td>\n",
    "<td> <img src=\"figures/cauchy.jpg\" alt=\"Drawing\" style=\"height: 300px;\"/> </td>\n",
    "</tr></table>\n",
    "\n",
    "👉 Many of the ANN training algorithms are variations of the gradient descent method: SGD, AdaGrad, RMSProp, Adam, etc."
   ]
  },
  {
   "cell_type": "markdown",
   "metadata": {
    "name": "A slide ",
    "slideshow": {
     "slide_type": "slide"
    }
   },
   "source": [
    "## Calculating the gradient of the objective function\n",
    "\n",
    "First, we eliminate the outputs $\\boldsymbol{Y}$ from $J$ by substituting the model definition $U$. Then, we apply the chain rule of differentiation:\n",
    "\n",
    "<center>\n",
    "<img src=\"figures/gradient_sizes.png\" width=\"30%\"/>\n",
    "</center>\n",
    "\n",
    "- If the size of $U$ is $N$, and the size of $\\boldsymbol{\\lambda}$ is $M$, naively computing the second term $\\frac{\\mathrm{d}U}{\\mathrm{d}\\boldsymbol{\\lambda}}$ (Jacobian matrix) would require $N \\times M$ model evaluations;\n",
    "- Deep learning ANNs feature billions of degrees of freedom and inputs ($M, N \\sim 10^9$);\n",
    "- Model evaluations are expensive (especially if the model is defined by solution to the PDE)."
   ]
  },
  {
   "cell_type": "markdown",
   "metadata": {
    "name": "A slide ",
    "slideshow": {
     "slide_type": "slide"
    }
   },
   "source": [
    "## Automatic differentiation\n",
    "\n",
    "We don't need to store the full Jacobian: only the Jacobian-vector product (JVP) is needed for the gradient evaluation."
   ]
  },
  {
   "cell_type": "markdown",
   "metadata": {
    "name": "A slide ",
    "slideshow": {
     "slide_type": "fragment"
    }
   },
   "source": [
    "The JVP can be generated for us automatically!\n",
    "\n",
    "- Automatic differentiation (AD) recursively applies the chain rule to propagate gradients through the function calls;\n",
    "- Some languages (e.g. Julia) support _differentiable programming_, where AD is performed on a source level, but the code must be written in one language."
   ]
  },
  {
   "cell_type": "markdown",
   "metadata": {
    "name": "A slide ",
    "slideshow": {
     "slide_type": "fragment"
    }
   },
   "source": [
    "> 📖 __reverse-mode automatic differentiation__ == __backpropagation__ == __adjoint method__"
   ]
  },
  {
   "cell_type": "markdown",
   "metadata": {
    "name": "A slide ",
    "slideshow": {
     "slide_type": "slide"
    }
   },
   "source": [
    "Some packages for AD:\n",
    "\n",
    "||||\n",
    "|--:|:--|:--|\n",
    "| <img src=\"figures/zygote_logo.png\" style=\"height: 32px;\"> | [Zygote.jl](https://fluxml.ai/Zygote.jl/)  | Julia  |\n",
    "| <img src=\"figures/enzyme_logo.svg\" style=\"height: 32px;\"> | [Enzyme.jl](https://enzyme.mit.edu/julia/) | Julia  |\n",
    "| <img src=\"figures/jax_logo.png\" style=\"height: 32px;\">    | [JAX](https://jax.readthedocs.io/) | Python |"
   ]
  },
  {
   "cell_type": "markdown",
   "metadata": {
    "name": "A slide ",
    "slideshow": {
     "slide_type": "slide"
    }
   },
   "source": [
    "## Adjoint method\n",
    "\n",
    "Sometimes it is more efficient to manually perform some of the steps of the AD algorithm. If $\\boldsymbol{U}$ is defined implicitly as the solution to the equation $\\mathcal{L}(\\boldsymbol{U},\\boldsymbol{\\lambda}) = 0$, we can expand the gradient of the objective function:\n",
    "\n",
    "<center><img src=\"figures/manual_adjoint.png\" width=\"60%\"></center>\n",
    "\n",
    "We can first get $\\frac{\\mathrm{d}J}{\\mathrm{d}\\boldsymbol{U}}\\boldsymbol{A}^{-1}$ by solving once for the auxiliary variable $\\boldsymbol{\\Psi}$, and in the second step compute the objective function gradient:\n",
    "\n",
    "$$\n",
    "\\frac{\\partial\\mathcal{L}}{\\partial\\boldsymbol{U}}^\\mathrm{T}\\boldsymbol{\\Psi} = \\frac{\\mathrm{d}J}{\\mathrm{d}\\boldsymbol{U}}^\\mathrm{T}, \\quad \\frac{\\mathrm{d}J}{\\mathrm{d}\\boldsymbol{\\lambda}} = \\boldsymbol{\\Psi}^\\mathrm{T} \\frac{\\mathrm{d}\\mathcal{L}}{\\mathrm{d}\\boldsymbol{\\lambda}}~.\n",
    "$$\n",
    "\n",
    "Variable $\\boldsymbol{\\Psi}$ is called _the adjoint variable_."
   ]
  },
  {
   "cell_type": "markdown",
   "metadata": {
    "name": "A slide ",
    "slideshow": {
     "slide_type": "slide"
    }
   },
   "source": [
    "## Example: training the linear model using AD\n",
    "\n",
    "Let's walk through the simple example in the Julia language.\n",
    "\n",
    "We plan to implement a simple linear model:\n",
    "\n",
    "$$\n",
    "U(\\boldsymbol{X},\\boldsymbol{\\lambda}) = \\boldsymbol{X} \\boldsymbol{\\lambda}~.\n",
    "$$"
   ]
  },
  {
   "cell_type": "markdown",
   "metadata": {
    "name": "A slide ",
    "slideshow": {
     "slide_type": "slide"
    }
   },
   "source": [
    "We import a visualisation package, `Plots.jl`:"
   ]
  },
  {
   "cell_type": "code",
   "execution_count": 1,
   "metadata": {},
   "outputs": [],
   "source": [
    "using Plots"
   ]
  },
  {
   "cell_type": "markdown",
   "metadata": {
    "name": "A slide ",
    "slideshow": {
     "slide_type": "fragment"
    }
   },
   "source": [
    "Then we define a linear model and RMSD as an objective function:"
   ]
  },
  {
   "cell_type": "code",
   "execution_count": 2,
   "metadata": {},
   "outputs": [
    {
     "data": {
      "text/plain": [
       "J (generic function with 1 method)"
      ]
     },
     "execution_count": 2,
     "metadata": {},
     "output_type": "execute_result"
    }
   ],
   "source": [
    "U(λ,X)     = X*λ\n",
    "J(Y,Y_obs) = sqrt(sum((Y.-Y_obs).^2)/length(Y))"
   ]
  },
  {
   "cell_type": "markdown",
   "metadata": {
    "name": "A slide ",
    "slideshow": {
     "slide_type": "slide"
    }
   },
   "source": [
    "In this example, we won't bother with real data. Instead, we'll make a synthetic dataset:"
   ]
  },
  {
   "cell_type": "code",
   "execution_count": 3,
   "metadata": {},
   "outputs": [
    {
     "data": {
      "text/plain": [
       "make_synthetic_data (generic function with 1 method)"
      ]
     },
     "execution_count": 3,
     "metadata": {},
     "output_type": "execute_result"
    }
   ],
   "source": [
    "function make_synthetic_data(;N=20, λ=3.0, σ=0.2)\n",
    "    X = sort(rand(N))\n",
    "    Y_obs = U(λ,X) .+ σ.*randn(N)\n",
    "    return X,Y_obs,λ\n",
    "end"
   ]
  },
  {
   "cell_type": "markdown",
   "metadata": {
    "name": "A slide ",
    "slideshow": {
     "slide_type": "fragment"
    }
   },
   "source": [
    "Here, in addition to the linear response we introduced a normally distributed random noise to replicate measurement errors."
   ]
  },
  {
   "cell_type": "markdown",
   "metadata": {
    "name": "A slide ",
    "slideshow": {
     "slide_type": "slide"
    }
   },
   "source": [
    "For a linear model, the minimisation problem with the given objective functoin has exact solution: the least squares fit:"
   ]
  },
  {
   "cell_type": "code",
   "execution_count": 4,
   "metadata": {},
   "outputs": [
    {
     "data": {
      "text/plain": [
       "fit_least_squares (generic function with 1 method)"
      ]
     },
     "execution_count": 4,
     "metadata": {},
     "output_type": "execute_result"
    }
   ],
   "source": [
    "fit_least_squares(X,Y_obs) = (X'*X)\\(X'*Y_obs)"
   ]
  },
  {
   "cell_type": "markdown",
   "metadata": {
    "name": "A slide ",
    "slideshow": {
     "slide_type": "fragment"
    }
   },
   "source": [
    "This will allow us to compare the gradient-based minimiser to the analytical result."
   ]
  },
  {
   "cell_type": "markdown",
   "metadata": {
    "name": "A slide ",
    "slideshow": {
     "slide_type": "slide"
    }
   },
   "source": [
    "Let's generate some synthetic data and display the results:"
   ]
  },
  {
   "cell_type": "code",
   "execution_count": 5,
   "metadata": {},
   "outputs": [
    {
     "name": "stdout",
     "output_type": "stream",
     "text": [
      "λ_synth = 3.0\n",
      "λ_lsq = 3.027129144303582\n"
     ]
    },
    {
     "data": {
      "text/plain": [
       "3.027129144303582"
      ]
     },
     "execution_count": 5,
     "metadata": {},
     "output_type": "execute_result"
    }
   ],
   "source": [
    "X,Y_obs,λ_synth = make_synthetic_data()\n",
    "λ_lsq = fit_least_squares(X,Y_obs)\n",
    "@show λ_synth λ_lsq"
   ]
  },
  {
   "cell_type": "markdown",
   "metadata": {
    "name": "A slide ",
    "slideshow": {
     "slide_type": "fragment"
    }
   },
   "source": [
    "As expected, least squares fit is sufficiently close to the ground truth."
   ]
  },
  {
   "cell_type": "markdown",
   "metadata": {
    "name": "A slide ",
    "slideshow": {
     "slide_type": "slide"
    }
   },
   "source": [
    "Make a figure and plot the results:"
   ]
  },
  {
   "cell_type": "code",
   "execution_count": 6,
   "metadata": {},
   "outputs": [
    {
     "data": {
      "image/svg+xml": [
       "<?xml version=\"1.0\" encoding=\"utf-8\"?>\n",
       "<svg xmlns=\"http://www.w3.org/2000/svg\" xmlns:xlink=\"http://www.w3.org/1999/xlink\" width=\"320\" height=\"320\" viewBox=\"0 0 1280 1280\">\n",
       "<defs>\n",
       "  <clipPath id=\"clip510\">\n",
       "    <rect x=\"0\" y=\"0\" width=\"1280\" height=\"1280\"/>\n",
       "  </clipPath>\n",
       "</defs>\n",
       "<path clip-path=\"url(#clip510)\" d=\"\n",
       "M0 1280 L1280 1280 L1280 0 L0 0  Z\n",
       "  \" fill=\"#ffffff\" fill-rule=\"evenodd\" fill-opacity=\"1\"/>\n",
       "<defs>\n",
       "  <clipPath id=\"clip511\">\n",
       "    <rect x=\"256\" y=\"128\" width=\"897\" height=\"897\"/>\n",
       "  </clipPath>\n",
       "</defs>\n",
       "<path clip-path=\"url(#clip510)\" d=\"\n",
       "M166.891 1152.37 L1165.55 1152.37 L1165.55 153.712 L166.891 153.712  Z\n",
       "  \" fill=\"#ffffff\" fill-rule=\"evenodd\" fill-opacity=\"1\"/>\n",
       "<defs>\n",
       "  <clipPath id=\"clip512\">\n",
       "    <rect x=\"166\" y=\"153\" width=\"1000\" height=\"1000\"/>\n",
       "  </clipPath>\n",
       "</defs>\n",
       "<polyline clip-path=\"url(#clip512)\" style=\"stroke:#000000; stroke-linecap:round; stroke-linejoin:round; stroke-width:2; stroke-opacity:0.1; fill:none\" points=\"\n",
       "  166.891,1152.37 166.891,153.712 \n",
       "  \"/>\n",
       "<polyline clip-path=\"url(#clip512)\" style=\"stroke:#000000; stroke-linecap:round; stroke-linejoin:round; stroke-width:2; stroke-opacity:0.1; fill:none\" points=\"\n",
       "  366.622,1152.37 366.622,153.712 \n",
       "  \"/>\n",
       "<polyline clip-path=\"url(#clip512)\" style=\"stroke:#000000; stroke-linecap:round; stroke-linejoin:round; stroke-width:2; stroke-opacity:0.1; fill:none\" points=\"\n",
       "  566.353,1152.37 566.353,153.712 \n",
       "  \"/>\n",
       "<polyline clip-path=\"url(#clip512)\" style=\"stroke:#000000; stroke-linecap:round; stroke-linejoin:round; stroke-width:2; stroke-opacity:0.1; fill:none\" points=\"\n",
       "  766.084,1152.37 766.084,153.712 \n",
       "  \"/>\n",
       "<polyline clip-path=\"url(#clip512)\" style=\"stroke:#000000; stroke-linecap:round; stroke-linejoin:round; stroke-width:2; stroke-opacity:0.1; fill:none\" points=\"\n",
       "  965.815,1152.37 965.815,153.712 \n",
       "  \"/>\n",
       "<polyline clip-path=\"url(#clip512)\" style=\"stroke:#000000; stroke-linecap:round; stroke-linejoin:round; stroke-width:2; stroke-opacity:0.1; fill:none\" points=\"\n",
       "  1165.55,1152.37 1165.55,153.712 \n",
       "  \"/>\n",
       "<polyline clip-path=\"url(#clip510)\" style=\"stroke:#000000; stroke-linecap:round; stroke-linejoin:round; stroke-width:4; stroke-opacity:1; fill:none\" points=\"\n",
       "  166.891,1152.37 1165.55,1152.37 \n",
       "  \"/>\n",
       "<polyline clip-path=\"url(#clip510)\" style=\"stroke:#000000; stroke-linecap:round; stroke-linejoin:round; stroke-width:4; stroke-opacity:1; fill:none\" points=\"\n",
       "  166.891,153.712 1165.55,153.712 \n",
       "  \"/>\n",
       "<polyline clip-path=\"url(#clip510)\" style=\"stroke:#000000; stroke-linecap:round; stroke-linejoin:round; stroke-width:4; stroke-opacity:1; fill:none\" points=\"\n",
       "  166.891,1152.37 166.891,1133.47 \n",
       "  \"/>\n",
       "<polyline clip-path=\"url(#clip510)\" style=\"stroke:#000000; stroke-linecap:round; stroke-linejoin:round; stroke-width:4; stroke-opacity:1; fill:none\" points=\"\n",
       "  366.622,1152.37 366.622,1133.47 \n",
       "  \"/>\n",
       "<polyline clip-path=\"url(#clip510)\" style=\"stroke:#000000; stroke-linecap:round; stroke-linejoin:round; stroke-width:4; stroke-opacity:1; fill:none\" points=\"\n",
       "  566.353,1152.37 566.353,1133.47 \n",
       "  \"/>\n",
       "<polyline clip-path=\"url(#clip510)\" style=\"stroke:#000000; stroke-linecap:round; stroke-linejoin:round; stroke-width:4; stroke-opacity:1; fill:none\" points=\"\n",
       "  766.084,1152.37 766.084,1133.47 \n",
       "  \"/>\n",
       "<polyline clip-path=\"url(#clip510)\" style=\"stroke:#000000; stroke-linecap:round; stroke-linejoin:round; stroke-width:4; stroke-opacity:1; fill:none\" points=\"\n",
       "  965.815,1152.37 965.815,1133.47 \n",
       "  \"/>\n",
       "<polyline clip-path=\"url(#clip510)\" style=\"stroke:#000000; stroke-linecap:round; stroke-linejoin:round; stroke-width:4; stroke-opacity:1; fill:none\" points=\"\n",
       "  1165.55,1152.37 1165.55,1133.47 \n",
       "  \"/>\n",
       "<path clip-path=\"url(#clip510)\" d=\"M144.275 1174.33 Q140.664 1174.33 138.835 1177.89 Q137.03 1181.43 137.03 1188.56 Q137.03 1195.67 138.835 1199.23 Q140.664 1202.78 144.275 1202.78 Q147.909 1202.78 149.715 1199.23 Q151.543 1195.67 151.543 1188.56 Q151.543 1181.43 149.715 1177.89 Q147.909 1174.33 144.275 1174.33 M144.275 1170.62 Q150.085 1170.62 153.141 1175.23 Q156.219 1179.81 156.219 1188.56 Q156.219 1197.29 153.141 1201.9 Q150.085 1206.48 144.275 1206.48 Q138.465 1206.48 135.386 1201.9 Q132.331 1197.29 132.331 1188.56 Q132.331 1179.81 135.386 1175.23 Q138.465 1170.62 144.275 1170.62 Z\" fill=\"#000000\" fill-rule=\"evenodd\" fill-opacity=\"1\" /><path clip-path=\"url(#clip510)\" d=\"M164.437 1199.93 L169.321 1199.93 L169.321 1205.81 L164.437 1205.81 L164.437 1199.93 Z\" fill=\"#000000\" fill-rule=\"evenodd\" fill-opacity=\"1\" /><path clip-path=\"url(#clip510)\" d=\"M189.506 1174.33 Q185.895 1174.33 184.066 1177.89 Q182.261 1181.43 182.261 1188.56 Q182.261 1195.67 184.066 1199.23 Q185.895 1202.78 189.506 1202.78 Q193.14 1202.78 194.946 1199.23 Q196.775 1195.67 196.775 1188.56 Q196.775 1181.43 194.946 1177.89 Q193.14 1174.33 189.506 1174.33 M189.506 1170.62 Q195.316 1170.62 198.372 1175.23 Q201.451 1179.81 201.451 1188.56 Q201.451 1197.29 198.372 1201.9 Q195.316 1206.48 189.506 1206.48 Q183.696 1206.48 180.617 1201.9 Q177.562 1197.29 177.562 1188.56 Q177.562 1179.81 180.617 1175.23 Q183.696 1170.62 189.506 1170.62 Z\" fill=\"#000000\" fill-rule=\"evenodd\" fill-opacity=\"1\" /><path clip-path=\"url(#clip510)\" d=\"M344.805 1174.33 Q341.194 1174.33 339.365 1177.89 Q337.559 1181.43 337.559 1188.56 Q337.559 1195.67 339.365 1199.23 Q341.194 1202.78 344.805 1202.78 Q348.439 1202.78 350.244 1199.23 Q352.073 1195.67 352.073 1188.56 Q352.073 1181.43 350.244 1177.89 Q348.439 1174.33 344.805 1174.33 M344.805 1170.62 Q350.615 1170.62 353.67 1175.23 Q356.749 1179.81 356.749 1188.56 Q356.749 1197.29 353.67 1201.9 Q350.615 1206.48 344.805 1206.48 Q338.995 1206.48 335.916 1201.9 Q332.86 1197.29 332.86 1188.56 Q332.86 1179.81 335.916 1175.23 Q338.995 1170.62 344.805 1170.62 Z\" fill=\"#000000\" fill-rule=\"evenodd\" fill-opacity=\"1\" /><path clip-path=\"url(#clip510)\" d=\"M364.967 1199.93 L369.851 1199.93 L369.851 1205.81 L364.967 1205.81 L364.967 1199.93 Z\" fill=\"#000000\" fill-rule=\"evenodd\" fill-opacity=\"1\" /><path clip-path=\"url(#clip510)\" d=\"M384.064 1201.87 L400.383 1201.87 L400.383 1205.81 L378.439 1205.81 L378.439 1201.87 Q381.101 1199.12 385.684 1194.49 Q390.291 1189.84 391.471 1188.49 Q393.716 1185.97 394.596 1184.23 Q395.499 1182.47 395.499 1180.78 Q395.499 1178.03 393.554 1176.29 Q391.633 1174.56 388.531 1174.56 Q386.332 1174.56 383.879 1175.32 Q381.448 1176.09 378.67 1177.64 L378.67 1172.91 Q381.494 1171.78 383.948 1171.2 Q386.402 1170.62 388.439 1170.62 Q393.809 1170.62 397.003 1173.31 Q400.198 1175.99 400.198 1180.48 Q400.198 1182.61 399.388 1184.53 Q398.601 1186.43 396.494 1189.03 Q395.915 1189.7 392.814 1192.91 Q389.712 1196.11 384.064 1201.87 Z\" fill=\"#000000\" fill-rule=\"evenodd\" fill-opacity=\"1\" /><path clip-path=\"url(#clip510)\" d=\"M543.494 1174.33 Q539.883 1174.33 538.054 1177.89 Q536.249 1181.43 536.249 1188.56 Q536.249 1195.67 538.054 1199.23 Q539.883 1202.78 543.494 1202.78 Q547.128 1202.78 548.934 1199.23 Q550.763 1195.67 550.763 1188.56 Q550.763 1181.43 548.934 1177.89 Q547.128 1174.33 543.494 1174.33 M543.494 1170.62 Q549.304 1170.62 552.36 1175.23 Q555.439 1179.81 555.439 1188.56 Q555.439 1197.29 552.36 1201.9 Q549.304 1206.48 543.494 1206.48 Q537.684 1206.48 534.605 1201.9 Q531.55 1197.29 531.55 1188.56 Q531.55 1179.81 534.605 1175.23 Q537.684 1170.62 543.494 1170.62 Z\" fill=\"#000000\" fill-rule=\"evenodd\" fill-opacity=\"1\" /><path clip-path=\"url(#clip510)\" d=\"M563.656 1199.93 L568.54 1199.93 L568.54 1205.81 L563.656 1205.81 L563.656 1199.93 Z\" fill=\"#000000\" fill-rule=\"evenodd\" fill-opacity=\"1\" /><path clip-path=\"url(#clip510)\" d=\"M591.573 1175.32 L579.767 1193.77 L591.573 1193.77 L591.573 1175.32 M590.346 1171.25 L596.225 1171.25 L596.225 1193.77 L601.156 1193.77 L601.156 1197.66 L596.225 1197.66 L596.225 1205.81 L591.573 1205.81 L591.573 1197.66 L575.971 1197.66 L575.971 1193.15 L590.346 1171.25 Z\" fill=\"#000000\" fill-rule=\"evenodd\" fill-opacity=\"1\" /><path clip-path=\"url(#clip510)\" d=\"M743.387 1174.33 Q739.776 1174.33 737.948 1177.89 Q736.142 1181.43 736.142 1188.56 Q736.142 1195.67 737.948 1199.23 Q739.776 1202.78 743.387 1202.78 Q747.022 1202.78 748.827 1199.23 Q750.656 1195.67 750.656 1188.56 Q750.656 1181.43 748.827 1177.89 Q747.022 1174.33 743.387 1174.33 M743.387 1170.62 Q749.197 1170.62 752.253 1175.23 Q755.332 1179.81 755.332 1188.56 Q755.332 1197.29 752.253 1201.9 Q749.197 1206.48 743.387 1206.48 Q737.577 1206.48 734.498 1201.9 Q731.443 1197.29 731.443 1188.56 Q731.443 1179.81 734.498 1175.23 Q737.577 1170.62 743.387 1170.62 Z\" fill=\"#000000\" fill-rule=\"evenodd\" fill-opacity=\"1\" /><path clip-path=\"url(#clip510)\" d=\"M763.549 1199.93 L768.433 1199.93 L768.433 1205.81 L763.549 1205.81 L763.549 1199.93 Z\" fill=\"#000000\" fill-rule=\"evenodd\" fill-opacity=\"1\" /><path clip-path=\"url(#clip510)\" d=\"M789.197 1186.66 Q786.049 1186.66 784.197 1188.82 Q782.369 1190.97 782.369 1194.72 Q782.369 1198.45 784.197 1200.62 Q786.049 1202.78 789.197 1202.78 Q792.345 1202.78 794.174 1200.62 Q796.026 1198.45 796.026 1194.72 Q796.026 1190.97 794.174 1188.82 Q792.345 1186.66 789.197 1186.66 M798.48 1172.01 L798.48 1176.27 Q796.72 1175.44 794.915 1175 Q793.132 1174.56 791.373 1174.56 Q786.744 1174.56 784.29 1177.68 Q781.859 1180.81 781.512 1187.13 Q782.878 1185.11 784.938 1184.05 Q786.998 1182.96 789.475 1182.96 Q794.683 1182.96 797.693 1186.13 Q800.725 1189.28 800.725 1194.72 Q800.725 1200.04 797.577 1203.26 Q794.429 1206.48 789.197 1206.48 Q783.202 1206.48 780.031 1201.9 Q776.859 1197.29 776.859 1188.56 Q776.859 1180.37 780.748 1175.51 Q784.637 1170.62 791.188 1170.62 Q792.947 1170.62 794.73 1170.97 Q796.535 1171.32 798.48 1172.01 Z\" fill=\"#000000\" fill-rule=\"evenodd\" fill-opacity=\"1\" /><path clip-path=\"url(#clip510)\" d=\"M943.246 1174.33 Q939.635 1174.33 937.806 1177.89 Q936 1181.43 936 1188.56 Q936 1195.67 937.806 1199.23 Q939.635 1202.78 943.246 1202.78 Q946.88 1202.78 948.686 1199.23 Q950.514 1195.67 950.514 1188.56 Q950.514 1181.43 948.686 1177.89 Q946.88 1174.33 943.246 1174.33 M943.246 1170.62 Q949.056 1170.62 952.111 1175.23 Q955.19 1179.81 955.19 1188.56 Q955.19 1197.29 952.111 1201.9 Q949.056 1206.48 943.246 1206.48 Q937.436 1206.48 934.357 1201.9 Q931.301 1197.29 931.301 1188.56 Q931.301 1179.81 934.357 1175.23 Q937.436 1170.62 943.246 1170.62 Z\" fill=\"#000000\" fill-rule=\"evenodd\" fill-opacity=\"1\" /><path clip-path=\"url(#clip510)\" d=\"M963.408 1199.93 L968.292 1199.93 L968.292 1205.81 L963.408 1205.81 L963.408 1199.93 Z\" fill=\"#000000\" fill-rule=\"evenodd\" fill-opacity=\"1\" /><path clip-path=\"url(#clip510)\" d=\"M988.477 1189.4 Q985.144 1189.4 983.222 1191.18 Q981.324 1192.96 981.324 1196.09 Q981.324 1199.21 983.222 1200.99 Q985.144 1202.78 988.477 1202.78 Q991.81 1202.78 993.732 1200.99 Q995.653 1199.19 995.653 1196.09 Q995.653 1192.96 993.732 1191.18 Q991.833 1189.4 988.477 1189.4 M983.801 1187.41 Q980.792 1186.66 979.102 1184.6 Q977.435 1182.54 977.435 1179.58 Q977.435 1175.44 980.375 1173.03 Q983.338 1170.62 988.477 1170.62 Q993.639 1170.62 996.579 1173.03 Q999.519 1175.44 999.519 1179.58 Q999.519 1182.54 997.829 1184.6 Q996.162 1186.66 993.176 1187.41 Q996.556 1188.19 998.431 1190.48 Q1000.33 1192.78 1000.33 1196.09 Q1000.33 1201.11 997.25 1203.79 Q994.195 1206.48 988.477 1206.48 Q982.759 1206.48 979.681 1203.79 Q976.625 1201.11 976.625 1196.09 Q976.625 1192.78 978.523 1190.48 Q980.422 1188.19 983.801 1187.41 M982.088 1180.02 Q982.088 1182.71 983.755 1184.21 Q985.445 1185.72 988.477 1185.72 Q991.486 1185.72 993.176 1184.21 Q994.889 1182.71 994.889 1180.02 Q994.889 1177.34 993.176 1175.83 Q991.486 1174.33 988.477 1174.33 Q985.445 1174.33 983.755 1175.83 Q982.088 1177.34 982.088 1180.02 Z\" fill=\"#000000\" fill-rule=\"evenodd\" fill-opacity=\"1\" /><path clip-path=\"url(#clip510)\" d=\"M1132.7 1201.87 L1140.34 1201.87 L1140.34 1175.51 L1132.03 1177.17 L1132.03 1172.91 L1140.29 1171.25 L1144.97 1171.25 L1144.97 1201.87 L1152.61 1201.87 L1152.61 1205.81 L1132.7 1205.81 L1132.7 1201.87 Z\" fill=\"#000000\" fill-rule=\"evenodd\" fill-opacity=\"1\" /><path clip-path=\"url(#clip510)\" d=\"M1162.05 1199.93 L1166.94 1199.93 L1166.94 1205.81 L1162.05 1205.81 L1162.05 1199.93 Z\" fill=\"#000000\" fill-rule=\"evenodd\" fill-opacity=\"1\" /><path clip-path=\"url(#clip510)\" d=\"M1187.12 1174.33 Q1183.51 1174.33 1181.68 1177.89 Q1179.87 1181.43 1179.87 1188.56 Q1179.87 1195.67 1181.68 1199.23 Q1183.51 1202.78 1187.12 1202.78 Q1190.75 1202.78 1192.56 1199.23 Q1194.39 1195.67 1194.39 1188.56 Q1194.39 1181.43 1192.56 1177.89 Q1190.75 1174.33 1187.12 1174.33 M1187.12 1170.62 Q1192.93 1170.62 1195.99 1175.23 Q1199.06 1179.81 1199.06 1188.56 Q1199.06 1197.29 1195.99 1201.9 Q1192.93 1206.48 1187.12 1206.48 Q1181.31 1206.48 1178.23 1201.9 Q1175.18 1197.29 1175.18 1188.56 Q1175.18 1179.81 1178.23 1175.23 Q1181.31 1170.62 1187.12 1170.62 Z\" fill=\"#000000\" fill-rule=\"evenodd\" fill-opacity=\"1\" /><polyline clip-path=\"url(#clip512)\" style=\"stroke:#000000; stroke-linecap:round; stroke-linejoin:round; stroke-width:2; stroke-opacity:0.1; fill:none\" points=\"\n",
       "  166.891,1152.37 1165.55,1152.37 \n",
       "  \"/>\n",
       "<polyline clip-path=\"url(#clip512)\" style=\"stroke:#000000; stroke-linecap:round; stroke-linejoin:round; stroke-width:2; stroke-opacity:0.1; fill:none\" points=\"\n",
       "  166.891,819.483 1165.55,819.483 \n",
       "  \"/>\n",
       "<polyline clip-path=\"url(#clip512)\" style=\"stroke:#000000; stroke-linecap:round; stroke-linejoin:round; stroke-width:2; stroke-opacity:0.1; fill:none\" points=\"\n",
       "  166.891,486.597 1165.55,486.597 \n",
       "  \"/>\n",
       "<polyline clip-path=\"url(#clip512)\" style=\"stroke:#000000; stroke-linecap:round; stroke-linejoin:round; stroke-width:2; stroke-opacity:0.1; fill:none\" points=\"\n",
       "  166.891,153.712 1165.55,153.712 \n",
       "  \"/>\n",
       "<polyline clip-path=\"url(#clip510)\" style=\"stroke:#000000; stroke-linecap:round; stroke-linejoin:round; stroke-width:4; stroke-opacity:1; fill:none\" points=\"\n",
       "  166.891,1152.37 166.891,153.712 \n",
       "  \"/>\n",
       "<polyline clip-path=\"url(#clip510)\" style=\"stroke:#000000; stroke-linecap:round; stroke-linejoin:round; stroke-width:4; stroke-opacity:1; fill:none\" points=\"\n",
       "  1165.55,1152.37 1165.55,153.712 \n",
       "  \"/>\n",
       "<polyline clip-path=\"url(#clip510)\" style=\"stroke:#000000; stroke-linecap:round; stroke-linejoin:round; stroke-width:4; stroke-opacity:1; fill:none\" points=\"\n",
       "  166.891,1152.37 183.546,1152.37 \n",
       "  \"/>\n",
       "<polyline clip-path=\"url(#clip510)\" style=\"stroke:#000000; stroke-linecap:round; stroke-linejoin:round; stroke-width:4; stroke-opacity:1; fill:none\" points=\"\n",
       "  166.891,819.483 183.546,819.483 \n",
       "  \"/>\n",
       "<polyline clip-path=\"url(#clip510)\" style=\"stroke:#000000; stroke-linecap:round; stroke-linejoin:round; stroke-width:4; stroke-opacity:1; fill:none\" points=\"\n",
       "  166.891,486.597 183.546,486.597 \n",
       "  \"/>\n",
       "<polyline clip-path=\"url(#clip510)\" style=\"stroke:#000000; stroke-linecap:round; stroke-linejoin:round; stroke-width:4; stroke-opacity:1; fill:none\" points=\"\n",
       "  166.891,153.712 183.546,153.712 \n",
       "  \"/>\n",
       "<path clip-path=\"url(#clip510)\" d=\"M135.746 1138.17 Q132.135 1138.17 130.306 1141.73 Q128.501 1145.27 128.501 1152.4 Q128.501 1159.51 130.306 1163.07 Q132.135 1166.62 135.746 1166.62 Q139.38 1166.62 141.186 1163.07 Q143.015 1159.51 143.015 1152.4 Q143.015 1145.27 141.186 1141.73 Q139.38 1138.17 135.746 1138.17 M135.746 1134.46 Q141.556 1134.46 144.612 1139.07 Q147.691 1143.65 147.691 1152.4 Q147.691 1161.13 144.612 1165.74 Q141.556 1170.32 135.746 1170.32 Q129.936 1170.32 126.857 1165.74 Q123.802 1161.13 123.802 1152.4 Q123.802 1143.65 126.857 1139.07 Q129.936 1134.46 135.746 1134.46 Z\" fill=\"#000000\" fill-rule=\"evenodd\" fill-opacity=\"1\" /><path clip-path=\"url(#clip510)\" d=\"M127.783 832.827 L135.422 832.827 L135.422 806.462 L127.112 808.129 L127.112 803.869 L135.376 802.203 L140.052 802.203 L140.052 832.827 L147.691 832.827 L147.691 836.763 L127.783 836.763 L127.783 832.827 Z\" fill=\"#000000\" fill-rule=\"evenodd\" fill-opacity=\"1\" /><path clip-path=\"url(#clip510)\" d=\"M131.371 499.942 L147.691 499.942 L147.691 503.877 L125.746 503.877 L125.746 499.942 Q128.408 497.188 132.992 492.558 Q137.598 487.905 138.779 486.563 Q141.024 484.04 141.904 482.303 Q142.806 480.544 142.806 478.854 Q142.806 476.1 140.862 474.364 Q138.941 472.628 135.839 472.628 Q133.64 472.628 131.186 473.391 Q128.755 474.155 125.978 475.706 L125.978 470.984 Q128.802 469.85 131.255 469.271 Q133.709 468.692 135.746 468.692 Q141.116 468.692 144.311 471.378 Q147.505 474.063 147.505 478.553 Q147.505 480.683 146.695 482.604 Q145.908 484.502 143.802 487.095 Q143.223 487.766 140.121 490.984 Q137.019 494.178 131.371 499.942 Z\" fill=\"#000000\" fill-rule=\"evenodd\" fill-opacity=\"1\" /><path clip-path=\"url(#clip510)\" d=\"M140.561 152.358 Q143.917 153.076 145.792 155.344 Q147.691 157.613 147.691 160.946 Q147.691 166.062 144.172 168.863 Q140.654 171.663 134.172 171.663 Q131.996 171.663 129.681 171.224 Q127.39 170.807 124.936 169.95 L124.936 165.437 Q126.88 166.571 129.195 167.15 Q131.51 167.728 134.033 167.728 Q138.431 167.728 140.723 165.992 Q143.038 164.256 143.038 160.946 Q143.038 157.89 140.885 156.177 Q138.755 154.441 134.936 154.441 L130.908 154.441 L130.908 150.599 L135.121 150.599 Q138.57 150.599 140.399 149.233 Q142.228 147.844 142.228 145.252 Q142.228 142.59 140.329 141.177 Q138.454 139.742 134.936 139.742 Q133.015 139.742 130.816 140.159 Q128.617 140.576 125.978 141.455 L125.978 137.289 Q128.64 136.548 130.955 136.177 Q133.292 135.807 135.353 135.807 Q140.677 135.807 143.779 138.238 Q146.88 140.645 146.88 144.765 Q146.88 147.636 145.237 149.626 Q143.593 151.594 140.561 152.358 Z\" fill=\"#000000\" fill-rule=\"evenodd\" fill-opacity=\"1\" /><path clip-path=\"url(#clip510)\" d=\"M580.319 35.9153 Q583.114 30.8922 587.003 28.5022 Q590.892 26.1121 596.158 26.1121 Q603.247 26.1121 607.095 31.0947 Q610.944 36.0368 610.944 45.1919 L610.944 72.576 L603.45 72.576 L603.45 45.4349 Q603.45 38.913 601.141 35.7533 Q598.832 32.5936 594.092 32.5936 Q588.299 32.5936 584.937 36.4419 Q581.575 40.2903 581.575 46.9338 L581.575 72.576 L574.081 72.576 L574.081 45.4349 Q574.081 38.8725 571.772 35.7533 Q569.463 32.5936 564.642 32.5936 Q558.93 32.5936 555.568 36.4824 Q552.206 40.3308 552.206 46.9338 L552.206 72.576 L544.712 72.576 L544.712 27.2059 L552.206 27.2059 L552.206 34.2544 Q554.758 30.082 558.323 28.0971 Q561.887 26.1121 566.789 26.1121 Q571.731 26.1121 575.174 28.6237 Q578.658 31.1352 580.319 35.9153 Z\" fill=\"#000000\" fill-rule=\"evenodd\" fill-opacity=\"1\" /><path clip-path=\"url(#clip510)\" d=\"M643.392 32.4315 Q637.396 32.4315 633.912 37.1306 Q630.429 41.7891 630.429 49.9314 Q630.429 58.0738 633.872 62.7728 Q637.356 67.4314 643.392 67.4314 Q649.346 67.4314 652.83 62.7323 Q656.314 58.0333 656.314 49.9314 Q656.314 41.8701 652.83 37.1711 Q649.346 32.4315 643.392 32.4315 M643.392 26.1121 Q653.114 26.1121 658.663 32.4315 Q664.213 38.7509 664.213 49.9314 Q664.213 61.0714 658.663 67.4314 Q653.114 73.7508 643.392 73.7508 Q633.629 73.7508 628.079 67.4314 Q622.57 61.0714 622.57 49.9314 Q622.57 38.7509 628.079 32.4315 Q633.629 26.1121 643.392 26.1121 Z\" fill=\"#000000\" fill-rule=\"evenodd\" fill-opacity=\"1\" /><path clip-path=\"url(#clip510)\" d=\"M706.424 34.0924 L706.424 9.54393 L713.877 9.54393 L713.877 72.576 L706.424 72.576 L706.424 65.7705 Q704.074 69.8214 700.469 71.8063 Q696.904 73.7508 691.881 73.7508 Q683.658 73.7508 678.472 67.1883 Q673.328 60.6258 673.328 49.9314 Q673.328 39.2371 678.472 32.6746 Q683.658 26.1121 691.881 26.1121 Q696.904 26.1121 700.469 28.0971 Q704.074 30.0415 706.424 34.0924 M681.024 49.9314 Q681.024 58.1548 684.387 62.8538 Q687.789 67.5124 693.704 67.5124 Q699.618 67.5124 703.021 62.8538 Q706.424 58.1548 706.424 49.9314 Q706.424 41.7081 703.021 37.0496 Q699.618 32.3505 693.704 32.3505 Q687.789 32.3505 684.387 37.0496 Q681.024 41.7081 681.024 49.9314 Z\" fill=\"#000000\" fill-rule=\"evenodd\" fill-opacity=\"1\" /><path clip-path=\"url(#clip510)\" d=\"M768.038 48.0275 L768.038 51.6733 L733.767 51.6733 Q734.253 59.3701 738.385 63.421 Q742.558 67.4314 749.971 67.4314 Q754.265 67.4314 758.275 66.3781 Q762.326 65.3249 766.296 63.2184 L766.296 70.267 Q762.286 71.9684 758.073 72.8596 Q753.86 73.7508 749.525 73.7508 Q738.669 73.7508 732.309 67.4314 Q725.989 61.1119 725.989 50.3365 Q725.989 39.1965 731.985 32.6746 Q738.021 26.1121 748.229 26.1121 Q757.384 26.1121 762.691 32.0264 Q768.038 37.9003 768.038 48.0275 M760.584 45.84 Q760.503 39.7232 757.141 36.0774 Q753.819 32.4315 748.31 32.4315 Q742.072 32.4315 738.304 35.9558 Q734.577 39.4801 734.01 45.8805 L760.584 45.84 Z\" fill=\"#000000\" fill-rule=\"evenodd\" fill-opacity=\"1\" /><path clip-path=\"url(#clip510)\" d=\"M780.272 9.54393 L787.725 9.54393 L787.725 72.576 L780.272 72.576 L780.272 9.54393 Z\" fill=\"#000000\" fill-rule=\"evenodd\" fill-opacity=\"1\" /><circle clip-path=\"url(#clip512)\" cx=\"231.569\" cy=\"1034.36\" r=\"14.4\" fill=\"#009af9\" fill-rule=\"evenodd\" fill-opacity=\"1\" stroke=\"#000000\" stroke-opacity=\"1\" stroke-width=\"2.56\"/>\n",
       "<circle clip-path=\"url(#clip512)\" cx=\"244.393\" cy=\"1114.08\" r=\"14.4\" fill=\"#009af9\" fill-rule=\"evenodd\" fill-opacity=\"1\" stroke=\"#000000\" stroke-opacity=\"1\" stroke-width=\"2.56\"/>\n",
       "<circle clip-path=\"url(#clip512)\" cx=\"324.634\" cy=\"951.346\" r=\"14.4\" fill=\"#009af9\" fill-rule=\"evenodd\" fill-opacity=\"1\" stroke=\"#000000\" stroke-opacity=\"1\" stroke-width=\"2.56\"/>\n",
       "<circle clip-path=\"url(#clip512)\" cx=\"373.741\" cy=\"995.555\" r=\"14.4\" fill=\"#009af9\" fill-rule=\"evenodd\" fill-opacity=\"1\" stroke=\"#000000\" stroke-opacity=\"1\" stroke-width=\"2.56\"/>\n",
       "<circle clip-path=\"url(#clip512)\" cx=\"398.42\" cy=\"871.909\" r=\"14.4\" fill=\"#009af9\" fill-rule=\"evenodd\" fill-opacity=\"1\" stroke=\"#000000\" stroke-opacity=\"1\" stroke-width=\"2.56\"/>\n",
       "<circle clip-path=\"url(#clip512)\" cx=\"596.752\" cy=\"700.428\" r=\"14.4\" fill=\"#009af9\" fill-rule=\"evenodd\" fill-opacity=\"1\" stroke=\"#000000\" stroke-opacity=\"1\" stroke-width=\"2.56\"/>\n",
       "<circle clip-path=\"url(#clip512)\" cx=\"631.748\" cy=\"661.676\" r=\"14.4\" fill=\"#009af9\" fill-rule=\"evenodd\" fill-opacity=\"1\" stroke=\"#000000\" stroke-opacity=\"1\" stroke-width=\"2.56\"/>\n",
       "<circle clip-path=\"url(#clip512)\" cx=\"650.221\" cy=\"792.907\" r=\"14.4\" fill=\"#009af9\" fill-rule=\"evenodd\" fill-opacity=\"1\" stroke=\"#000000\" stroke-opacity=\"1\" stroke-width=\"2.56\"/>\n",
       "<circle clip-path=\"url(#clip512)\" cx=\"716.667\" cy=\"675.462\" r=\"14.4\" fill=\"#009af9\" fill-rule=\"evenodd\" fill-opacity=\"1\" stroke=\"#000000\" stroke-opacity=\"1\" stroke-width=\"2.56\"/>\n",
       "<circle clip-path=\"url(#clip512)\" cx=\"743.367\" cy=\"498.832\" r=\"14.4\" fill=\"#009af9\" fill-rule=\"evenodd\" fill-opacity=\"1\" stroke=\"#000000\" stroke-opacity=\"1\" stroke-width=\"2.56\"/>\n",
       "<circle clip-path=\"url(#clip512)\" cx=\"775.074\" cy=\"418.112\" r=\"14.4\" fill=\"#009af9\" fill-rule=\"evenodd\" fill-opacity=\"1\" stroke=\"#000000\" stroke-opacity=\"1\" stroke-width=\"2.56\"/>\n",
       "<circle clip-path=\"url(#clip512)\" cx=\"783.389\" cy=\"531.973\" r=\"14.4\" fill=\"#009af9\" fill-rule=\"evenodd\" fill-opacity=\"1\" stroke=\"#000000\" stroke-opacity=\"1\" stroke-width=\"2.56\"/>\n",
       "<circle clip-path=\"url(#clip512)\" cx=\"806.198\" cy=\"545.607\" r=\"14.4\" fill=\"#009af9\" fill-rule=\"evenodd\" fill-opacity=\"1\" stroke=\"#000000\" stroke-opacity=\"1\" stroke-width=\"2.56\"/>\n",
       "<circle clip-path=\"url(#clip512)\" cx=\"945.904\" cy=\"456.293\" r=\"14.4\" fill=\"#009af9\" fill-rule=\"evenodd\" fill-opacity=\"1\" stroke=\"#000000\" stroke-opacity=\"1\" stroke-width=\"2.56\"/>\n",
       "<circle clip-path=\"url(#clip512)\" cx=\"988.868\" cy=\"308.555\" r=\"14.4\" fill=\"#009af9\" fill-rule=\"evenodd\" fill-opacity=\"1\" stroke=\"#000000\" stroke-opacity=\"1\" stroke-width=\"2.56\"/>\n",
       "<circle clip-path=\"url(#clip512)\" cx=\"1005.15\" cy=\"359.876\" r=\"14.4\" fill=\"#009af9\" fill-rule=\"evenodd\" fill-opacity=\"1\" stroke=\"#000000\" stroke-opacity=\"1\" stroke-width=\"2.56\"/>\n",
       "<circle clip-path=\"url(#clip512)\" cx=\"1019.57\" cy=\"303.275\" r=\"14.4\" fill=\"#009af9\" fill-rule=\"evenodd\" fill-opacity=\"1\" stroke=\"#000000\" stroke-opacity=\"1\" stroke-width=\"2.56\"/>\n",
       "<circle clip-path=\"url(#clip512)\" cx=\"1095.14\" cy=\"208.312\" r=\"14.4\" fill=\"#009af9\" fill-rule=\"evenodd\" fill-opacity=\"1\" stroke=\"#000000\" stroke-opacity=\"1\" stroke-width=\"2.56\"/>\n",
       "<polyline clip-path=\"url(#clip512)\" style=\"stroke:#e26f46; stroke-linecap:round; stroke-linejoin:round; stroke-width:4; stroke-opacity:1; fill:none\" stroke-dasharray=\"2, 4\" points=\"\n",
       "  183.759,1135.5 231.569,1087.69 244.393,1074.86 324.634,994.624 373.741,945.518 398.42,920.838 596.752,722.507 631.748,687.511 650.221,669.037 716.667,602.592 \n",
       "  743.367,575.891 775.074,544.185 783.389,535.87 806.198,513.06 945.904,373.355 988.868,330.391 1005.15,314.107 1019.57,299.689 1095.14,224.116 1164.68,154.579 \n",
       "  \n",
       "  \"/>\n",
       "<polyline clip-path=\"url(#clip512)\" style=\"stroke:#3da44d; stroke-linecap:round; stroke-linejoin:round; stroke-width:8; stroke-opacity:1; fill:none\" points=\"\n",
       "  183.759,1135.35 231.569,1087.1 244.393,1074.16 324.634,993.198 373.741,943.647 398.42,918.745 596.752,718.619 631.748,683.307 650.221,664.667 716.667,597.62 \n",
       "  743.367,570.678 775.074,538.685 783.389,530.295 806.198,507.279 945.904,366.31 988.868,322.958 1005.15,306.526 1019.57,291.978 1095.14,215.721 1164.68,145.556 \n",
       "  \n",
       "  \"/>\n",
       "<path clip-path=\"url(#clip510)\" d=\"\n",
       "M204.66 394.361 L627.132 394.361 L627.132 187.001 L204.66 187.001  Z\n",
       "  \" fill=\"#ffffff\" fill-rule=\"evenodd\" fill-opacity=\"1\"/>\n",
       "<polyline clip-path=\"url(#clip510)\" style=\"stroke:#000000; stroke-linecap:round; stroke-linejoin:round; stroke-width:4; stroke-opacity:1; fill:none\" points=\"\n",
       "  204.66,394.361 627.132,394.361 627.132,187.001 204.66,187.001 204.66,394.361 \n",
       "  \"/>\n",
       "<circle clip-path=\"url(#clip510)\" cx=\"255.019\" cy=\"238.841\" r=\"23.04\" fill=\"#009af9\" fill-rule=\"evenodd\" fill-opacity=\"1\" stroke=\"#000000\" stroke-opacity=\"1\" stroke-width=\"4.096\"/>\n",
       "<path clip-path=\"url(#clip510)\" d=\"M324.289 234.13 L324.289 220.102 L328.549 220.102 L328.549 256.121 L324.289 256.121 L324.289 252.232 Q322.947 254.547 320.887 255.681 Q318.85 256.792 315.979 256.792 Q311.28 256.792 308.317 253.042 Q305.377 249.292 305.377 243.181 Q305.377 237.07 308.317 233.32 Q311.28 229.57 315.979 229.57 Q318.85 229.57 320.887 230.704 Q322.947 231.815 324.289 234.13 M309.776 243.181 Q309.776 247.88 311.697 250.565 Q313.641 253.227 317.021 253.227 Q320.401 253.227 322.345 250.565 Q324.289 247.88 324.289 243.181 Q324.289 238.482 322.345 235.82 Q320.401 233.135 317.021 233.135 Q313.641 233.135 311.697 235.82 Q309.776 238.482 309.776 243.181 Z\" fill=\"#000000\" fill-rule=\"evenodd\" fill-opacity=\"1\" /><path clip-path=\"url(#clip510)\" d=\"M349.104 243.088 Q343.942 243.088 341.951 244.269 Q339.961 245.449 339.961 248.297 Q339.961 250.565 341.442 251.908 Q342.947 253.227 345.516 253.227 Q349.058 253.227 351.187 250.727 Q353.34 248.204 353.34 244.037 L353.34 243.088 L349.104 243.088 M357.599 241.329 L357.599 256.121 L353.34 256.121 L353.34 252.185 Q351.882 254.547 349.706 255.681 Q347.53 256.792 344.382 256.792 Q340.4 256.792 338.039 254.57 Q335.701 252.324 335.701 248.574 Q335.701 244.199 338.618 241.977 Q341.558 239.755 347.368 239.755 L353.34 239.755 L353.34 239.338 Q353.34 236.399 351.396 234.801 Q349.474 233.181 345.979 233.181 Q343.757 233.181 341.65 233.713 Q339.544 234.246 337.6 235.311 L337.6 231.375 Q339.937 230.473 342.137 230.033 Q344.336 229.57 346.419 229.57 Q352.044 229.57 354.822 232.487 Q357.599 235.403 357.599 241.329 Z\" fill=\"#000000\" fill-rule=\"evenodd\" fill-opacity=\"1\" /><path clip-path=\"url(#clip510)\" d=\"M370.585 222.834 L370.585 230.195 L379.359 230.195 L379.359 233.505 L370.585 233.505 L370.585 247.579 Q370.585 250.75 371.442 251.653 Q372.322 252.556 374.984 252.556 L379.359 252.556 L379.359 256.121 L374.984 256.121 Q370.053 256.121 368.178 254.292 Q366.303 252.44 366.303 247.579 L366.303 233.505 L363.178 233.505 L363.178 230.195 L366.303 230.195 L366.303 222.834 L370.585 222.834 Z\" fill=\"#000000\" fill-rule=\"evenodd\" fill-opacity=\"1\" /><path clip-path=\"url(#clip510)\" d=\"M396.743 243.088 Q391.581 243.088 389.59 244.269 Q387.599 245.449 387.599 248.297 Q387.599 250.565 389.081 251.908 Q390.585 253.227 393.155 253.227 Q396.696 253.227 398.826 250.727 Q400.979 248.204 400.979 244.037 L400.979 243.088 L396.743 243.088 M405.238 241.329 L405.238 256.121 L400.979 256.121 L400.979 252.185 Q399.52 254.547 397.345 255.681 Q395.169 256.792 392.021 256.792 Q388.039 256.792 385.678 254.57 Q383.34 252.324 383.34 248.574 Q383.34 244.199 386.257 241.977 Q389.196 239.755 395.007 239.755 L400.979 239.755 L400.979 239.338 Q400.979 236.399 399.034 234.801 Q397.113 233.181 393.618 233.181 Q391.396 233.181 389.289 233.713 Q387.183 234.246 385.238 235.311 L385.238 231.375 Q387.576 230.473 389.775 230.033 Q391.974 229.57 394.058 229.57 Q399.683 229.57 402.46 232.487 Q405.238 235.403 405.238 241.329 Z\" fill=\"#000000\" fill-rule=\"evenodd\" fill-opacity=\"1\" /><polyline clip-path=\"url(#clip510)\" style=\"stroke:#e26f46; stroke-linecap:round; stroke-linejoin:round; stroke-width:4; stroke-opacity:1; fill:none\" stroke-dasharray=\"2, 4\" points=\"\n",
       "  217.249,290.681 292.788,290.681 \n",
       "  \"/>\n",
       "<path clip-path=\"url(#clip510)\" d=\"M323.803 282.799 L323.803 286.827 Q321.998 285.901 320.053 285.438 Q318.109 284.975 316.026 284.975 Q312.854 284.975 311.257 285.947 Q309.683 286.919 309.683 288.864 Q309.683 290.345 310.817 291.201 Q311.952 292.035 315.377 292.799 L316.836 293.123 Q321.373 294.095 323.271 295.877 Q325.192 297.637 325.192 300.808 Q325.192 304.419 322.322 306.525 Q319.475 308.632 314.475 308.632 Q312.391 308.632 310.123 308.215 Q307.877 307.822 305.377 307.012 L305.377 302.613 Q307.739 303.84 310.03 304.465 Q312.322 305.067 314.567 305.067 Q317.576 305.067 319.197 304.049 Q320.817 303.007 320.817 301.132 Q320.817 299.396 319.637 298.47 Q318.479 297.544 314.521 296.688 L313.039 296.34 Q309.081 295.507 307.322 293.794 Q305.563 292.058 305.563 289.049 Q305.563 285.391 308.155 283.401 Q310.748 281.41 315.516 281.41 Q317.877 281.41 319.961 281.757 Q322.044 282.104 323.803 282.799 Z\" fill=\"#000000\" fill-rule=\"evenodd\" fill-opacity=\"1\" /><path clip-path=\"url(#clip510)\" d=\"M342.762 310.368 Q340.956 314.998 339.243 316.41 Q337.53 317.822 334.66 317.822 L331.257 317.822 L331.257 314.257 L333.757 314.257 Q335.516 314.257 336.488 313.424 Q337.461 312.59 338.641 309.488 L339.405 307.544 L328.919 282.035 L333.433 282.035 L341.535 302.313 L349.636 282.035 L354.15 282.035 L342.762 310.368 Z\" fill=\"#000000\" fill-rule=\"evenodd\" fill-opacity=\"1\" /><path clip-path=\"url(#clip510)\" d=\"M381.581 292.313 L381.581 307.961 L377.322 307.961 L377.322 292.451 Q377.322 288.771 375.886 286.942 Q374.451 285.114 371.581 285.114 Q368.132 285.114 366.141 287.313 Q364.15 289.512 364.15 293.308 L364.15 307.961 L359.868 307.961 L359.868 282.035 L364.15 282.035 L364.15 286.063 Q365.678 283.725 367.738 282.567 Q369.822 281.41 372.53 281.41 Q376.997 281.41 379.289 284.188 Q381.581 286.942 381.581 292.313 Z\" fill=\"#000000\" fill-rule=\"evenodd\" fill-opacity=\"1\" /><path clip-path=\"url(#clip510)\" d=\"M394.289 274.674 L394.289 282.035 L403.062 282.035 L403.062 285.345 L394.289 285.345 L394.289 299.419 Q394.289 302.59 395.146 303.493 Q396.025 304.396 398.687 304.396 L403.062 304.396 L403.062 307.961 L398.687 307.961 Q393.757 307.961 391.882 306.132 Q390.007 304.28 390.007 299.419 L390.007 285.345 L386.882 285.345 L386.882 282.035 L390.007 282.035 L390.007 274.674 L394.289 274.674 Z\" fill=\"#000000\" fill-rule=\"evenodd\" fill-opacity=\"1\" /><path clip-path=\"url(#clip510)\" d=\"M430.215 292.313 L430.215 307.961 L425.956 307.961 L425.956 292.451 Q425.956 288.771 424.52 286.942 Q423.085 285.114 420.215 285.114 Q416.766 285.114 414.775 287.313 Q412.784 289.512 412.784 293.308 L412.784 307.961 L408.502 307.961 L408.502 271.942 L412.784 271.942 L412.784 286.063 Q414.312 283.725 416.372 282.567 Q418.456 281.41 421.164 281.41 Q425.631 281.41 427.923 284.188 Q430.215 286.942 430.215 292.313 Z\" fill=\"#000000\" fill-rule=\"evenodd\" fill-opacity=\"1\" /><path clip-path=\"url(#clip510)\" d=\"M460.886 293.933 L460.886 296.016 L441.303 296.016 Q441.58 300.414 443.942 302.729 Q446.326 305.021 450.562 305.021 Q453.016 305.021 455.307 304.419 Q457.622 303.817 459.891 302.613 L459.891 306.641 Q457.599 307.613 455.191 308.123 Q452.784 308.632 450.307 308.632 Q444.104 308.632 440.469 305.021 Q436.858 301.41 436.858 295.252 Q436.858 288.887 440.284 285.16 Q443.733 281.41 449.567 281.41 Q454.798 281.41 457.83 284.789 Q460.886 288.146 460.886 293.933 M456.627 292.683 Q456.58 289.188 454.659 287.104 Q452.761 285.021 449.613 285.021 Q446.048 285.021 443.895 287.035 Q441.766 289.049 441.442 292.706 L456.627 292.683 Z\" fill=\"#000000\" fill-rule=\"evenodd\" fill-opacity=\"1\" /><path clip-path=\"url(#clip510)\" d=\"M472.09 274.674 L472.09 282.035 L480.863 282.035 L480.863 285.345 L472.09 285.345 L472.09 299.419 Q472.09 302.59 472.946 303.493 Q473.826 304.396 476.488 304.396 L480.863 304.396 L480.863 307.961 L476.488 307.961 Q471.557 307.961 469.682 306.132 Q467.807 304.28 467.807 299.419 L467.807 285.345 L464.682 285.345 L464.682 282.035 L467.807 282.035 L467.807 274.674 L472.09 274.674 Z\" fill=\"#000000\" fill-rule=\"evenodd\" fill-opacity=\"1\" /><path clip-path=\"url(#clip510)\" d=\"M486.464 282.035 L490.724 282.035 L490.724 307.961 L486.464 307.961 L486.464 282.035 M486.464 271.942 L490.724 271.942 L490.724 277.336 L486.464 277.336 L486.464 271.942 Z\" fill=\"#000000\" fill-rule=\"evenodd\" fill-opacity=\"1\" /><path clip-path=\"url(#clip510)\" d=\"M518.293 283.03 L518.293 287.012 Q516.487 286.016 514.659 285.53 Q512.853 285.021 511.001 285.021 Q506.858 285.021 504.566 287.66 Q502.275 290.276 502.275 295.021 Q502.275 299.766 504.566 302.405 Q506.858 305.021 511.001 305.021 Q512.853 305.021 514.659 304.535 Q516.487 304.025 518.293 303.03 L518.293 306.965 Q516.511 307.799 514.589 308.215 Q512.691 308.632 510.538 308.632 Q504.682 308.632 501.233 304.951 Q497.784 301.271 497.784 295.021 Q497.784 288.678 501.256 285.044 Q504.751 281.41 510.816 281.41 Q512.784 281.41 514.659 281.827 Q516.534 282.22 518.293 283.03 Z\" fill=\"#000000\" fill-rule=\"evenodd\" fill-opacity=\"1\" /><polyline clip-path=\"url(#clip510)\" style=\"stroke:#3da44d; stroke-linecap:round; stroke-linejoin:round; stroke-width:8; stroke-opacity:1; fill:none\" points=\"\n",
       "  217.249,342.521 292.788,342.521 \n",
       "  \"/>\n",
       "<path clip-path=\"url(#clip510)\" d=\"M305.377 323.782 L309.637 323.782 L309.637 359.801 L305.377 359.801 L305.377 323.782 Z\" fill=\"#000000\" fill-rule=\"evenodd\" fill-opacity=\"1\" /><path clip-path=\"url(#clip510)\" d=\"M340.725 345.773 L340.725 347.856 L321.141 347.856 Q321.419 352.254 323.78 354.569 Q326.164 356.861 330.4 356.861 Q332.854 356.861 335.146 356.259 Q337.461 355.657 339.729 354.453 L339.729 358.481 Q337.437 359.453 335.03 359.963 Q332.623 360.472 330.146 360.472 Q323.942 360.472 320.308 356.861 Q316.697 353.25 316.697 347.092 Q316.697 340.727 320.123 337 Q323.572 333.25 329.405 333.25 Q334.637 333.25 337.669 336.629 Q340.725 339.986 340.725 345.773 M336.465 344.523 Q336.419 341.028 334.498 338.944 Q332.6 336.861 329.451 336.861 Q325.887 336.861 323.734 338.875 Q321.604 340.889 321.28 344.546 L336.465 344.523 Z\" fill=\"#000000\" fill-rule=\"evenodd\" fill-opacity=\"1\" /><path clip-path=\"url(#clip510)\" d=\"M359.498 346.768 Q354.336 346.768 352.345 347.949 Q350.354 349.129 350.354 351.977 Q350.354 354.245 351.836 355.588 Q353.34 356.907 355.91 356.907 Q359.451 356.907 361.581 354.407 Q363.734 351.884 363.734 347.717 L363.734 346.768 L359.498 346.768 M367.993 345.009 L367.993 359.801 L363.734 359.801 L363.734 355.865 Q362.275 358.227 360.099 359.361 Q357.923 360.472 354.775 360.472 Q350.794 360.472 348.433 358.25 Q346.095 356.004 346.095 352.254 Q346.095 347.879 349.011 345.657 Q351.951 343.435 357.761 343.435 L363.734 343.435 L363.734 343.018 Q363.734 340.079 361.789 338.481 Q359.868 336.861 356.373 336.861 Q354.15 336.861 352.044 337.393 Q349.937 337.926 347.993 338.991 L347.993 335.055 Q350.331 334.153 352.53 333.713 Q354.729 333.25 356.812 333.25 Q362.437 333.25 365.215 336.167 Q367.993 339.083 367.993 345.009 Z\" fill=\"#000000\" fill-rule=\"evenodd\" fill-opacity=\"1\" /><path clip-path=\"url(#clip510)\" d=\"M393.294 334.639 L393.294 338.667 Q391.488 337.741 389.544 337.278 Q387.599 336.815 385.516 336.815 Q382.345 336.815 380.747 337.787 Q379.173 338.759 379.173 340.704 Q379.173 342.185 380.308 343.041 Q381.442 343.875 384.868 344.639 L386.326 344.963 Q390.863 345.935 392.761 347.717 Q394.683 349.477 394.683 352.648 Q394.683 356.259 391.812 358.365 Q388.965 360.472 383.965 360.472 Q381.882 360.472 379.613 360.055 Q377.368 359.662 374.868 358.852 L374.868 354.453 Q377.229 355.68 379.521 356.305 Q381.812 356.907 384.058 356.907 Q387.067 356.907 388.687 355.889 Q390.308 354.847 390.308 352.972 Q390.308 351.236 389.127 350.31 Q387.97 349.384 384.011 348.528 L382.53 348.18 Q378.572 347.347 376.812 345.634 Q375.053 343.898 375.053 340.889 Q375.053 337.231 377.646 335.241 Q380.238 333.25 385.007 333.25 Q387.368 333.25 389.451 333.597 Q391.534 333.944 393.294 334.639 Z\" fill=\"#000000\" fill-rule=\"evenodd\" fill-opacity=\"1\" /><path clip-path=\"url(#clip510)\" d=\"M405.678 326.514 L405.678 333.875 L414.451 333.875 L414.451 337.185 L405.678 337.185 L405.678 351.259 Q405.678 354.43 406.534 355.333 Q407.414 356.236 410.076 356.236 L414.451 356.236 L414.451 359.801 L410.076 359.801 Q405.145 359.801 403.27 357.972 Q401.395 356.12 401.395 351.259 L401.395 337.185 L398.27 337.185 L398.27 333.875 L401.395 333.875 L401.395 326.514 L405.678 326.514 Z\" fill=\"#000000\" fill-rule=\"evenodd\" fill-opacity=\"1\" /><path clip-path=\"url(#clip510)\" d=\"M451.65 334.639 L451.65 338.667 Q449.844 337.741 447.9 337.278 Q445.955 336.815 443.872 336.815 Q440.701 336.815 439.104 337.787 Q437.53 338.759 437.53 340.704 Q437.53 342.185 438.664 343.041 Q439.798 343.875 443.224 344.639 L444.682 344.963 Q449.219 345.935 451.117 347.717 Q453.039 349.477 453.039 352.648 Q453.039 356.259 450.168 358.365 Q447.321 360.472 442.321 360.472 Q440.238 360.472 437.969 360.055 Q435.724 359.662 433.224 358.852 L433.224 354.453 Q435.585 355.68 437.877 356.305 Q440.168 356.907 442.414 356.907 Q445.423 356.907 447.043 355.889 Q448.664 354.847 448.664 352.972 Q448.664 351.236 447.483 350.31 Q446.326 349.384 442.367 348.528 L440.886 348.18 Q436.928 347.347 435.168 345.634 Q433.409 343.898 433.409 340.889 Q433.409 337.231 436.002 335.241 Q438.594 333.25 443.363 333.25 Q445.724 333.25 447.807 333.597 Q449.891 333.944 451.65 334.639 Z\" fill=\"#000000\" fill-rule=\"evenodd\" fill-opacity=\"1\" /><path clip-path=\"url(#clip510)\" d=\"M462.367 346.861 Q462.367 351.56 464.289 354.245 Q466.233 356.907 469.613 356.907 Q472.992 356.907 474.937 354.245 Q476.881 351.56 476.881 346.861 Q476.881 342.162 474.937 339.5 Q472.992 336.815 469.613 336.815 Q466.233 336.815 464.289 339.5 Q462.367 342.162 462.367 346.861 M476.881 355.912 Q475.539 358.227 473.478 359.361 Q471.441 360.472 468.571 360.472 Q463.872 360.472 460.909 356.722 Q457.969 352.972 457.969 346.861 Q457.969 340.75 460.909 337 Q463.872 333.25 468.571 333.25 Q471.441 333.25 473.478 334.384 Q475.539 335.495 476.881 337.81 L476.881 333.875 L481.14 333.875 L481.14 369.662 L476.881 369.662 L476.881 355.912 Z\" fill=\"#000000\" fill-rule=\"evenodd\" fill-opacity=\"1\" /><path clip-path=\"url(#clip510)\" d=\"M489.474 349.569 L489.474 333.875 L493.733 333.875 L493.733 349.407 Q493.733 353.088 495.168 354.94 Q496.603 356.768 499.474 356.768 Q502.923 356.768 504.913 354.569 Q506.927 352.37 506.927 348.574 L506.927 333.875 L511.187 333.875 L511.187 359.801 L506.927 359.801 L506.927 355.819 Q505.376 358.18 503.316 359.338 Q501.279 360.472 498.571 360.472 Q494.103 360.472 491.789 357.694 Q489.474 354.916 489.474 349.569 M500.191 333.25 L500.191 333.25 Z\" fill=\"#000000\" fill-rule=\"evenodd\" fill-opacity=\"1\" /><path clip-path=\"url(#clip510)\" d=\"M531.742 346.768 Q526.58 346.768 524.589 347.949 Q522.599 349.129 522.599 351.977 Q522.599 354.245 524.08 355.588 Q525.585 356.907 528.154 356.907 Q531.696 356.907 533.825 354.407 Q535.978 351.884 535.978 347.717 L535.978 346.768 L531.742 346.768 M540.237 345.009 L540.237 359.801 L535.978 359.801 L535.978 355.865 Q534.52 358.227 532.344 359.361 Q530.168 360.472 527.02 360.472 Q523.038 360.472 520.677 358.25 Q518.339 356.004 518.339 352.254 Q518.339 347.879 521.256 345.657 Q524.196 343.435 530.006 343.435 L535.978 343.435 L535.978 343.018 Q535.978 340.079 534.034 338.481 Q532.112 336.861 528.617 336.861 Q526.395 336.861 524.288 337.393 Q522.182 337.926 520.237 338.991 L520.237 335.055 Q522.575 334.153 524.774 333.713 Q526.974 333.25 529.057 333.25 Q534.682 333.25 537.46 336.167 Q540.237 339.083 540.237 345.009 Z\" fill=\"#000000\" fill-rule=\"evenodd\" fill-opacity=\"1\" /><path clip-path=\"url(#clip510)\" d=\"M564.033 337.856 Q563.316 337.44 562.459 337.254 Q561.626 337.046 560.608 337.046 Q556.996 337.046 555.052 339.407 Q553.131 341.745 553.131 346.143 L553.131 359.801 L548.848 359.801 L548.848 333.875 L553.131 333.875 L553.131 337.903 Q554.473 335.542 556.626 334.407 Q558.779 333.25 561.858 333.25 Q562.297 333.25 562.83 333.319 Q563.362 333.366 564.01 333.481 L564.033 337.856 Z\" fill=\"#000000\" fill-rule=\"evenodd\" fill-opacity=\"1\" /><path clip-path=\"url(#clip510)\" d=\"M589.635 345.773 L589.635 347.856 L570.052 347.856 Q570.33 352.254 572.691 354.569 Q575.075 356.861 579.311 356.861 Q581.765 356.861 584.057 356.259 Q586.371 355.657 588.64 354.453 L588.64 358.481 Q586.348 359.453 583.941 359.963 Q581.533 360.472 579.057 360.472 Q572.853 360.472 569.219 356.861 Q565.608 353.25 565.608 347.092 Q565.608 340.727 569.033 337 Q572.483 333.25 578.316 333.25 Q583.547 333.25 586.58 336.629 Q589.635 339.986 589.635 345.773 M585.376 344.523 Q585.33 341.028 583.408 338.944 Q581.51 336.861 578.362 336.861 Q574.797 336.861 572.645 338.875 Q570.515 340.889 570.191 344.546 L585.376 344.523 Z\" fill=\"#000000\" fill-rule=\"evenodd\" fill-opacity=\"1\" /><path clip-path=\"url(#clip510)\" d=\"M613.154 334.639 L613.154 338.667 Q611.348 337.741 609.404 337.278 Q607.459 336.815 605.376 336.815 Q602.205 336.815 600.607 337.787 Q599.033 338.759 599.033 340.704 Q599.033 342.185 600.168 343.041 Q601.302 343.875 604.728 344.639 L606.186 344.963 Q610.723 345.935 612.621 347.717 Q614.542 349.477 614.542 352.648 Q614.542 356.259 611.672 358.365 Q608.825 360.472 603.825 360.472 Q601.742 360.472 599.473 360.055 Q597.228 359.662 594.728 358.852 L594.728 354.453 Q597.089 355.68 599.381 356.305 Q601.672 356.907 603.918 356.907 Q606.927 356.907 608.547 355.889 Q610.168 354.847 610.168 352.972 Q610.168 351.236 608.987 350.31 Q607.83 349.384 603.871 348.528 L602.39 348.18 Q598.431 347.347 596.672 345.634 Q594.913 343.898 594.913 340.889 Q594.913 337.231 597.506 335.241 Q600.098 333.25 604.867 333.25 Q607.228 333.25 609.311 333.597 Q611.394 333.944 613.154 334.639 Z\" fill=\"#000000\" fill-rule=\"evenodd\" fill-opacity=\"1\" /></svg>\n"
      ]
     },
     "execution_count": 6,
     "metadata": {},
     "output_type": "execute_result"
    }
   ],
   "source": [
    "plot(X,Y_obs;\n",
    "    seriestype=:scatter,\n",
    "    label=\"data\",title=\"model\",\n",
    "    framestyle=:box,aspect_ratio=1/3,\n",
    "    size=(320,320),xlims=(0,1),ylims=(0,3))\n",
    "plot!(X,[U(λ_synth,X) U(λ_lsq,X)];\n",
    "    label=[\"synthetic\" \"least squares\"],\n",
    "    lw=[1 2],ls=[:dot :solid])\n",
    "plot!(legend=:topleft)"
   ]
  },
  {
   "cell_type": "markdown",
   "metadata": {
    "name": "A slide ",
    "slideshow": {
     "slide_type": "slide"
    }
   },
   "source": [
    "Now let's implement the gradient descent algorithm. At first, let's compute all the derivatives analytically"
   ]
  },
  {
   "cell_type": "code",
   "execution_count": 7,
   "metadata": {},
   "outputs": [
    {
     "data": {
      "text/plain": [
       "fit_gradient_descent (generic function with 1 method)"
      ]
     },
     "execution_count": 7,
     "metadata": {},
     "output_type": "execute_result"
    }
   ],
   "source": [
    "function fit_gradient_descent(X,Y_obs; maxiter=50, λ_ini=10.0, γ=0.5)\n",
    "    λ = λ_ini      # initial approximation for λ\n",
    "    γ /= length(X) # correct for different objective\n",
    "    λ_hist    = [λ,]\n",
    "    conv_hist = [J(U(λ,X),Y_obs),]\n",
    "    for _ in 1:maxiter\n",
    "        ∂J_∂U = (U(λ,X).-Y_obs)'\n",
    "        dU_dλ = X\n",
    "        dJ_dλ = ∂J_∂U*dU_dλ\n",
    "        λ -= γ*dJ_dλ\n",
    "        push!(λ_hist,λ)\n",
    "        push!(conv_hist,J(U(λ,X),Y_obs))\n",
    "    end\n",
    "    return λ,λ_hist,conv_hist\n",
    "end"
   ]
  },
  {
   "cell_type": "markdown",
   "metadata": {
    "name": "A slide ",
    "slideshow": {
     "slide_type": "slide"
    }
   },
   "source": [
    "Fit the data using the developed function:"
   ]
  },
  {
   "cell_type": "code",
   "execution_count": 13,
   "metadata": {},
   "outputs": [
    {
     "name": "stdout",
     "output_type": "stream",
     "text": [
      "λ_synth = 3.0\n",
      "λ_lsq = 3.027129144303582\n",
      "λ_gd = 3.0274993037822546\n"
     ]
    },
    {
     "data": {
      "text/plain": [
       "3.0274993037822546"
      ]
     },
     "execution_count": 13,
     "metadata": {},
     "output_type": "execute_result"
    }
   ],
   "source": [
    "λ_gd,λ_hist,conv_hist = fit_gradient_descent(X,Y_obs)\n",
    "@show λ_synth λ_lsq λ_gd"
   ]
  },
  {
   "cell_type": "markdown",
   "metadata": {
    "name": "A slide ",
    "slideshow": {
     "slide_type": "fragment"
    }
   },
   "source": [
    "The gradient descent converged reasonably well to the least squares solution."
   ]
  },
  {
   "cell_type": "markdown",
   "metadata": {
    "name": "A slide ",
    "slideshow": {
     "slide_type": "slide"
    }
   },
   "source": [
    "We saved the convergence history. Let's animate the algorithm:"
   ]
  },
  {
   "cell_type": "code",
   "execution_count": 14,
   "metadata": {},
   "outputs": [
    {
     "name": "stderr",
     "output_type": "stream",
     "text": [
      "\u001b[36m\u001b[1m[ \u001b[22m\u001b[39m\u001b[36m\u001b[1mInfo: \u001b[22m\u001b[39mSaved animation to C:\\Users\\krjac\\Dropbox\\Projects\\GPU4GEO\\Fachgesprach 2023\\DemystifyAdjoint.jl\\tmp.gif\n"
     ]
    },
    {
     "data": {
      "text/html": [
       "<img src=\"data:image/gif;base64,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\" />"
      ],
      "text/plain": [
       "Plots.AnimatedGif(\"C:\\\\Users\\\\krjac\\\\Dropbox\\\\Projects\\\\GPU4GEO\\\\Fachgesprach 2023\\\\DemystifyAdjoint.jl\\\\tmp.gif\")"
      ]
     },
     "execution_count": 14,
     "metadata": {},
     "output_type": "execute_result"
    }
   ],
   "source": [
    "@gif for i in eachindex(λ_hist)\n",
    "    p1 = plot(X,Y_obs;\n",
    "        seriestype=:scatter,\n",
    "        label=\"data\",title=\"model\",\n",
    "        framestyle=:box,aspect_ratio=1/3,\n",
    "        xlims=(0,1),ylims=(0,3))\n",
    "    plot!(X,[U(λ_synth,X) U(λ_lsq,X) U(λ_hist[i],X)];\n",
    "        label=[\"synthetic\" \"least squares\" \"gradient descent\"],\n",
    "        lw=[1 2 2],ls=[:dot :solid :dash])\n",
    "    plot!(legend=:topleft)\n",
    "    p2 = plot(1:i,conv_hist[1:i];\n",
    "        label=false,title=\"convergence\",\n",
    "        framestyle=:box,yscale=:log10,minorgrid=true,\n",
    "        xlims=(0,length(conv_hist)),ylims=(0.1,10.0))\n",
    "    plot(p1,p2;layout=(1,2),size=(640,320))\n",
    "end"
   ]
  },
  {
   "cell_type": "markdown",
   "metadata": {
    "name": "A slide ",
    "slideshow": {
     "slide_type": "slide"
    }
   },
   "source": [
    "We now have the working gradient descent algorithm. However, we still don't use the automatic differentiation! Let's fix this. First, we import the `Zygote.jl` package:"
   ]
  },
  {
   "cell_type": "code",
   "execution_count": 10,
   "metadata": {},
   "outputs": [],
   "source": [
    "using Zygote"
   ]
  },
  {
   "cell_type": "markdown",
   "metadata": {
    "name": "A slide ",
    "slideshow": {
     "slide_type": "fragment"
    }
   },
   "source": [
    "Try it out:"
   ]
  },
  {
   "cell_type": "code",
   "execution_count": 11,
   "metadata": {},
   "outputs": [
    {
     "data": {
      "text/plain": [
       "(-1.0,)"
      ]
     },
     "execution_count": 11,
     "metadata": {},
     "output_type": "execute_result"
    }
   ],
   "source": [
    "gradient(sin,π)"
   ]
  },
  {
   "cell_type": "markdown",
   "metadata": {
    "name": "A slide ",
    "slideshow": {
     "slide_type": "fragment"
    }
   },
   "source": [
    "And modify the `fit_gradient_descent` funciton:"
   ]
  },
  {
   "cell_type": "code",
   "execution_count": 12,
   "metadata": {},
   "outputs": [
    {
     "data": {
      "text/plain": [
       "fit_gradient_descent (generic function with 1 method)"
      ]
     },
     "execution_count": 12,
     "metadata": {},
     "output_type": "execute_result"
    }
   ],
   "source": [
    "function fit_gradient_descent(X,Y_obs; maxiter=50, λ_ini=10.0, γ=0.5)\n",
    "    λ = λ_ini      # initial approximation for λ\n",
    "    γ /= length(X) # correct for different objective\n",
    "    λ_hist    = [λ,]\n",
    "    conv_hist = [J(U(λ,X),Y_obs),]\n",
    "    for _ in 1:maxiter\n",
    "        Y,back = pullback(U,λ,X)\n",
    "        ∂J_∂U  = Y.-Y_obs\n",
    "        dJ_dλ  = back(∂J_∂U)[1]\n",
    "        λ -= γ*dJ_dλ\n",
    "        push!(λ_hist,λ)\n",
    "        push!(conv_hist,J(U(λ,X),Y_obs))\n",
    "    end\n",
    "    return λ,λ_hist,conv_hist\n",
    "end"
   ]
  },
  {
   "cell_type": "markdown",
   "metadata": {
    "name": "A slide ",
    "slideshow": {
     "slide_type": "slide"
    }
   },
   "source": [
    "The `pullback` function takes the model function and its arguments, and returns the model value at that point and the pullback function, which computes the vector-Jacobian product (VJP) given the input vector."
   ]
  },
  {
   "cell_type": "markdown",
   "metadata": {
    "name": "A slide ",
    "slideshow": {
     "slide_type": "fragment"
    }
   },
   "source": [
    "Re-run the training and plotting to make sure everything works as expected.\n",
    "\n",
    "🎉 Congrats, you've successfuly implemented a machine learning algorithm from scratch, using only the AD library!"
   ]
  },
  {
   "cell_type": "markdown",
   "metadata": {
    "name": "A slide ",
    "slideshow": {
     "slide_type": "slide"
    }
   },
   "source": [
    "## What's next?\n",
    "\n",
    "By replacing the linear model with a 2D ice flow SIA solver, and using the adjoint trick, we can make inversions for SMB:\n",
    "\n",
    "![2D SIA inversion](figures/inverse_2D_sia.gif)\n",
    "\n",
    "This code runs completely on GPUs for both forward and adjoint problems.\n",
    "\n",
    "Check the code [here](https://github.com/PTsolvers/PT-AD/blob/main/scripts_ok/adjoint_nonlin_diff_react_2D_cuda.jl)"
   ]
  },
  {
   "cell_type": "markdown",
   "metadata": {
    "name": "A slide ",
    "slideshow": {
     "slide_type": "slide"
    }
   },
   "source": [
    "## Combining models\n",
    "\n",
    "💡 We can mix together several models to leverage the power of both physics-based and data-driven approaches:\n",
    "\n",
    "$$\n",
    "U(\\boldsymbol{X},\\boldsymbol{\\lambda}_1,\\boldsymbol{\\lambda}_2) = (U_2 \\circ U_1)(\\boldsymbol{X},\\boldsymbol{\\lambda}_1,\\boldsymbol{\\lambda}_2).\n",
    "$$\n",
    "\n",
    "Physics-informed artificial neural networks (PIANNs) are example of such combination.\n",
    "\n",
    "As long as both models are differentiable, we can compute gradients and run the training algorithm."
   ]
  },
  {
   "cell_type": "markdown",
   "metadata": {
    "name": "A slide ",
    "slideshow": {
     "slide_type": "slide"
    }
   },
   "source": [
    "## Outlook\n",
    "\n",
    "- Calculating gradients is an important building block for inverse modelling;\n",
    "- Differential programming in Julia enables automatic generation of adjoints;\n",
    "- We need to develop new tools to leverage new compiler technologies and unlock the full potential of latest hardware.\n",
    "\n",
    "\n",
    "> \"We believe that __future efforts should be taken towards physics-informed datascience glacier SMB and evolution modelling__. Adding physical constraints in ANNs ... would allow us to improve our understanding and confidence in predictions, to reduce our dependency on big datasets, and __to start bridging the gap between data science and physical methods.__\"\n",
    "\n",
    "<font size=\"4\">Bolibar, J. et al. \"Deep learning applied to glacier evolution modelling.\" _The Cryosphere_ (2020).</font>\n",
    "\n",
    "### Thank you for your attention!"
   ]
  },
  {
   "cell_type": "markdown",
   "metadata": {},
   "source": [
    "---\n",
    "\n",
    "*This notebook was generated using [Literate.jl](https://github.com/fredrikekre/Literate.jl).*"
   ]
  }
 ],
 "metadata": {
  "kernelspec": {
   "display_name": "Julia 1.8.3",
   "language": "julia",
   "name": "julia-1.8"
  },
  "language_info": {
   "file_extension": ".jl",
   "mimetype": "application/julia",
   "name": "julia",
   "version": "1.8.3"
  }
 },
 "nbformat": 4,
 "nbformat_minor": 3
}
