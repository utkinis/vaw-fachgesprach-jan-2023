{
 "cells": [
  {
   "cell_type": "markdown",
   "source": [
    "# Introduction to differentiable modelling\n",
    "## Demystifying the adjoint method\n",
    "_Ivan Utkin_\n",
    "\n",
    "VAW, 13 January 2023"
   ],
   "metadata": {
    "name": "A slide ",
    "slideshow": {
     "slide_type": "slide"
    }
   }
  },
  {
   "cell_type": "markdown",
   "source": [
    "## Motivation\n",
    "\n",
    "Let's broadly classify models as being either _physics-bases_ or _data-driven_.\n",
    "\n",
    "Physics-based models| Data-driven models\n",
    ":-------------------|:-----------------\n",
    "✅ Allow us to explain the observations                   | ✅ Can capture complex nonlinear effects\n",
    "✅ Respect laws of physics (mass/momentum/energy balance) | ✅ Are computationally efficient\n",
    "❌ Incorporating all relevant effects is often impossible | ❌ Need vast amounts of data for training\n",
    "❌ Resolving scales is computationally challenging        | ❌ Data is sparse → training should be constrained\n",
    "\n",
    "Modern approaches to modelling include both data-driven and physics-based components.\n",
    "\n",
    "These components need to be calibrated to match observations and experimental data."
   ],
   "metadata": {
    "name": "A slide ",
    "slideshow": {
     "slide_type": "slide"
    }
   }
  },
  {
   "cell_type": "markdown",
   "source": [
    "__The purpose of this talk is to explain in simple terms the state-of-the-art in model calibration, applicable to both physics-based and data-driven approaches, and combinations thereof.__\n",
    "\n",
    "<center><img src=\"figures/PIANN.png\" width=\"40%\"/></center>\n",
    "\n",
    "<font size=\"4\">Riel, B., Minchew, B., and Bischoff, T. \"Data‐Driven Inference of the Mechanics of Slip Along Glacier Beds Using Physics‐Informed Neural Networks: Case Study on Rutford Ice Stream, Antarctica.\" _Journal of Advances in Modeling Earth Systems_ (2021).</font>"
   ],
   "metadata": {
    "name": "A slide ",
    "slideshow": {
     "slide_type": "slide"
    }
   }
  },
  {
   "cell_type": "markdown",
   "source": [
    "## What is a model?\n",
    "\n",
    "A mapping between inputs $\\boldsymbol{X}$ and outputs $\\boldsymbol{Y}$ parametrised by $\\boldsymbol{\\lambda}$ (control):\n",
    "\n",
    "$$\n",
    "    \\boldsymbol{Y} = U(\\boldsymbol{X},\\boldsymbol{\\lambda})\n",
    "$$"
   ],
   "metadata": {
    "name": "A slide ",
    "slideshow": {
     "slide_type": "slide"
    }
   }
  },
  {
   "cell_type": "markdown",
   "source": [
    "Examples:\n",
    "\n",
    "- Linear model: $U(\\boldsymbol{X},\\boldsymbol{\\lambda}) = \\boldsymbol{X}\\boldsymbol{\\lambda} + \\boldsymbol{\\varepsilon}$;\n",
    "- PDE-based model: $\\mathcal{L}(U(\\boldsymbol{X},\\boldsymbol{\\lambda})) = 0$, $\\mathcal{L}$ — differential operator;\n",
    "- ML-based model: $U(\\boldsymbol{X},\\boldsymbol{\\lambda})$ is the output of a neural network/decision tree/etc."
   ],
   "metadata": {
    "name": "A slide ",
    "slideshow": {
     "slide_type": "fragment"
    }
   }
  },
  {
   "cell_type": "markdown",
   "source": [
    "## How to calibrate a model?\n",
    "\n",
    "The goal is to find $\\boldsymbol{\\lambda}$ that minimises the deviation of the model from available data $\\boldsymbol{Y}_\\text{obs}$.\n",
    "\n",
    "We describe this deviation by introducing the objective function $J(\\boldsymbol{Y},\\boldsymbol{Y}^\\text{obs})$.\n",
    "\n",
    "Important example is the root-mean-square-deviation (RMSD):\n",
    "\n",
    "$$\n",
    "    J(\\boldsymbol{Y},\\boldsymbol{Y}^\\text{obs}) = \\sqrt{\\frac{1}{N}\\sum_{i=1}^{N}\\left(Y_i - Y^\\text{obs}_i\\right)^2}\n",
    "$$"
   ],
   "metadata": {
    "name": "A slide ",
    "slideshow": {
     "slide_type": "slide"
    }
   }
  },
  {
   "cell_type": "markdown",
   "source": [
    "> 📖 __objective function__ == __loss function__ == __cost function__\n",
    ">\n",
    "> 📖 __model calibration__ == __training__ == __learning__ == __inversion__"
   ],
   "metadata": {
    "name": "A slide ",
    "slideshow": {
     "slide_type": "fragment"
    }
   }
  },
  {
   "cell_type": "markdown",
   "source": [
    "We can reformulate the calibration problem as a minimisation problem:\n",
    "$\\newcommand{\\argmin}{\\mathop{\\mathrm{argmin}}\\limits}$\n",
    "$$\n",
    "\\boldsymbol{\\lambda}_\\mathrm{opt} = \\argmin_\\boldsymbol{\\lambda} J\\left(\\boldsymbol{\\lambda}\\right)\n",
    "$$\n",
    "\n",
    "Sometimes, this minimum can be approximately discovered by:\n",
    "\n",
    "- Brute-force grid search in the parameter space\n",
    "- Expert-guided trial-and-error approach\n",
    "\n",
    "With growing dimensionality of problems (billions of degrees of freedom), _automated and efficient ways to calibrate the models are needed_."
   ],
   "metadata": {
    "name": "A slide ",
    "slideshow": {
     "slide_type": "slide"
    }
   }
  },
  {
   "cell_type": "markdown",
   "source": [
    "## Introducing gradient descent\n",
    "\n",
    "Suggested first by Cauchy in 1847, the gradient descent method still remains one of the key building blocks in the model training algorithms.\n",
    "\n",
    "The idea of the method is to iteratively step in the direction opposite to the gradient of the objective function $J$ at the current point $\\boldsymbol{\\lambda}$:\n",
    "\n",
    "<table><tr>\n",
    "<td>\n",
    "$$\n",
    "\\boldsymbol{\\lambda}_{i+1} = \\boldsymbol{\\lambda}_i - \\gamma\\frac{\\mathrm{d}J}{\\mathrm{d}\\boldsymbol{\\lambda}},\\quad i = 1 .. n_\\mathrm{iter}~,\n",
    "$$\n",
    "\n",
    "where $\\gamma$ is the step size.\n",
    "\n",
    "> 📖 __iteration__ == __epoch__\n",
    ">\n",
    "> 📖 __step size__ == __learning rate__\n",
    "</td>\n",
    "<td> <img src=\"figures/gradient_descent.gif\" alt=\"Drawing\" style=\"height: 300px;\"/> </td>\n",
    "<td> <img src=\"figures/cauchy.jpg\" alt=\"Drawing\" style=\"height: 300px;\"/> </td>\n",
    "</tr></table>\n",
    "\n",
    "👉 Many of the ANN training algorithms are variations of the gradient descent method: SGD, AdaGrad, RMSProp, Adam, etc."
   ],
   "metadata": {
    "name": "A slide ",
    "slideshow": {
     "slide_type": "slide"
    }
   }
  },
  {
   "cell_type": "markdown",
   "source": [
    "## Calculating the gradient of the objective function\n",
    "\n",
    "First, we eliminate the outputs $\\boldsymbol{Y}$ from $J$ by substituting the model definition $U$. Then, we apply the chain rule of differentiation:\n",
    "\n",
    "<center>\n",
    "<img src=\"figures/gradient_sizes.png\" width=\"30%\"/>\n",
    "</center>\n",
    "\n",
    "- If the size of $U$ is $N$, and the size of $\\boldsymbol{\\lambda}$ is $M$, naively computing the second term $\\frac{\\mathrm{d}U}{\\mathrm{d}\\boldsymbol{\\lambda}}$ (Jacobian matrix) would require $N \\times M$ model evaluations;\n",
    "- Deep learning ANNs feature billions of degrees of freedom and inputs ($M, N \\sim 10^9$);\n",
    "- Model evaluations are expensive (especially if the model is defined by solution to the PDE)."
   ],
   "metadata": {
    "name": "A slide ",
    "slideshow": {
     "slide_type": "slide"
    }
   }
  },
  {
   "cell_type": "markdown",
   "source": [
    "## Automatic differentiation\n",
    "\n",
    "We don't need to store the full Jacobian: only the Jacobian-vector product (JVP) is needed for the gradient evaluation."
   ],
   "metadata": {
    "name": "A slide ",
    "slideshow": {
     "slide_type": "slide"
    }
   }
  },
  {
   "cell_type": "markdown",
   "source": [
    "The JVP can be generated for us automatically!\n",
    "\n",
    "- Automatic differentiation (AD) recursively applies the chain rule to propagate gradients through the function calls;\n",
    "- Some languages (e.g. Julia) support _differentiable programming_, where AD is performed on a source level, but the code must be written in one language."
   ],
   "metadata": {
    "name": "A slide ",
    "slideshow": {
     "slide_type": "fragment"
    }
   }
  },
  {
   "cell_type": "markdown",
   "source": [
    "> 📖 __reverse-mode automatic differentiation__ == __backpropagation__ == __adjoint method__"
   ],
   "metadata": {
    "name": "A slide ",
    "slideshow": {
     "slide_type": "fragment"
    }
   }
  },
  {
   "cell_type": "markdown",
   "source": [
    "Some packages for AD:\n",
    "\n",
    "||||\n",
    "|--:|:--|:--|\n",
    "| <img src=\"figures/zygote_logo.png\" style=\"height: 32px;\"> | [Zygote.jl](https://fluxml.ai/Zygote.jl/)  | Julia  |\n",
    "| <img src=\"figures/enzyme_logo.svg\" style=\"height: 32px;\"> | [Enzyme.jl](https://enzyme.mit.edu/julia/) | Julia  |\n",
    "| <img src=\"figures/jax_logo.png\" style=\"height: 32px;\">    | [JAX](https://jax.readthedocs.io/) | Python |"
   ],
   "metadata": {
    "name": "A slide ",
    "slideshow": {
     "slide_type": "slide"
    }
   }
  },
  {
   "cell_type": "markdown",
   "source": [
    "## Adjoint method\n",
    "\n",
    "Sometimes it is more efficient to manually perform some of the steps of the AD algorithm. If $\\boldsymbol{U}$ is defined implicitly as the solution to the equation $\\mathcal{L}(\\boldsymbol{U},\\boldsymbol{\\lambda}) = 0$, we can expand the gradient of the objective function:\n",
    "\n",
    "<center><img src=\"figures/manual_adjoint.png\" width=\"60%\"></center>\n",
    "\n",
    "We can first get $\\frac{\\mathrm{d}J}{\\mathrm{d}\\boldsymbol{U}}\\boldsymbol{A}^{-1}$ by solving once for the auxiliary variable $\\boldsymbol{\\Psi}$, and in the second step compute the objective function gradient:\n",
    "\n",
    "$$\n",
    "\\frac{\\partial\\mathcal{L}}{\\partial\\boldsymbol{U}}^\\mathrm{T}\\boldsymbol{\\Psi} = \\frac{\\mathrm{d}J}{\\mathrm{d}\\boldsymbol{U}}^\\mathrm{T}, \\quad \\frac{\\mathrm{d}J}{\\mathrm{d}\\boldsymbol{\\lambda}} = \\boldsymbol{\\Psi}^\\mathrm{T} \\frac{\\mathrm{d}\\mathcal{L}}{\\mathrm{d}\\boldsymbol{\\lambda}}~.\n",
    "$$\n",
    "\n",
    "Variable $\\boldsymbol{\\Psi}$ is called _the adjoint variable_."
   ],
   "metadata": {
    "name": "A slide ",
    "slideshow": {
     "slide_type": "slide"
    }
   }
  },
  {
   "cell_type": "markdown",
   "source": [
    "## Example: training the linear model using AD\n",
    "\n",
    "Let's walk through the simple example in the Julia language.\n",
    "\n",
    "We plan to implement a simple linear model:\n",
    "\n",
    "$$\n",
    "U(\\boldsymbol{X},\\boldsymbol{\\lambda}) = \\boldsymbol{X} \\boldsymbol{\\lambda}~.\n",
    "$$"
   ],
   "metadata": {
    "name": "A slide ",
    "slideshow": {
     "slide_type": "slide"
    }
   }
  },
  {
   "cell_type": "markdown",
   "source": [
    "We import a visualisation package, `Plots.jl`:"
   ],
   "metadata": {
    "name": "A slide ",
    "slideshow": {
     "slide_type": "slide"
    }
   }
  },
  {
   "outputs": [],
   "cell_type": "code",
   "source": [
    "using Plots"
   ],
   "metadata": {},
   "execution_count": null
  },
  {
   "cell_type": "markdown",
   "source": [
    "Then we define a linear model and RMSD as an objective function:"
   ],
   "metadata": {
    "name": "A slide ",
    "slideshow": {
     "slide_type": "fragment"
    }
   }
  },
  {
   "outputs": [],
   "cell_type": "code",
   "source": [
    "U(λ,X)     = X*λ\n",
    "J(Y,Y_obs) = sqrt(sum((Y.-Y_obs).^2)/length(Y))"
   ],
   "metadata": {},
   "execution_count": null
  },
  {
   "cell_type": "markdown",
   "source": [
    "In this example, we won't bother with real data. Instead, we'll make a synthetic dataset:"
   ],
   "metadata": {
    "name": "A slide ",
    "slideshow": {
     "slide_type": "slide"
    }
   }
  },
  {
   "outputs": [],
   "cell_type": "code",
   "source": [
    "function make_synthetic_data(;N=20, λ=3.0, σ=0.2)\n",
    "    X = sort(rand(N))\n",
    "    Y_obs = U(λ,X) .+ σ.*randn(N)\n",
    "    return X,Y_obs,λ\n",
    "end"
   ],
   "metadata": {},
   "execution_count": null
  },
  {
   "cell_type": "markdown",
   "source": [
    "Here, in addition to the linear response we introduced a normally distributed random noise to replicate measurement errors."
   ],
   "metadata": {
    "name": "A slide ",
    "slideshow": {
     "slide_type": "fragment"
    }
   }
  },
  {
   "cell_type": "markdown",
   "source": [
    "For a linear model, the minimisation problem with the given objective functoin has exact solution: the least squares fit:"
   ],
   "metadata": {
    "name": "A slide ",
    "slideshow": {
     "slide_type": "slide"
    }
   }
  },
  {
   "outputs": [],
   "cell_type": "code",
   "source": [
    "fit_least_squares(X,Y_obs) = (X'*X)\\(X'*Y_obs)"
   ],
   "metadata": {},
   "execution_count": null
  },
  {
   "cell_type": "markdown",
   "source": [
    "This will allow us to compare the gradient-based minimiser to the analytical result."
   ],
   "metadata": {
    "name": "A slide ",
    "slideshow": {
     "slide_type": "fragment"
    }
   }
  },
  {
   "cell_type": "markdown",
   "source": [
    "Let's generate some synthetic data and display the results:"
   ],
   "metadata": {
    "name": "A slide ",
    "slideshow": {
     "slide_type": "slide"
    }
   }
  },
  {
   "outputs": [],
   "cell_type": "code",
   "source": [
    "X,Y_obs,λ_synth = make_synthetic_data()\n",
    "λ_lsq = fit_least_squares(X,Y_obs)\n",
    "@show λ_synth λ_lsq"
   ],
   "metadata": {},
   "execution_count": null
  },
  {
   "cell_type": "markdown",
   "source": [
    "As expected, least squares fit is sufficiently close to the ground truth."
   ],
   "metadata": {
    "name": "A slide ",
    "slideshow": {
     "slide_type": "fragment"
    }
   }
  },
  {
   "cell_type": "markdown",
   "source": [
    "Make a figure and plot the results:"
   ],
   "metadata": {
    "name": "A slide ",
    "slideshow": {
     "slide_type": "slide"
    }
   }
  },
  {
   "outputs": [],
   "cell_type": "code",
   "source": [
    "plot(X,Y_obs;\n",
    "    seriestype=:scatter,\n",
    "    label=\"data\",title=\"model\",\n",
    "    framestyle=:box,aspect_ratio=1/3,\n",
    "    size=(320,320),xlims=(0,1),ylims=(0,3))\n",
    "plot!(X,[U(λ_synth,X) U(λ_lsq,X)];\n",
    "    label=[\"synthetic\" \"least squares\"],\n",
    "    lw=[1 2],ls=[:dot :solid])\n",
    "plot!(legend=:topleft)"
   ],
   "metadata": {},
   "execution_count": null
  },
  {
   "cell_type": "markdown",
   "source": [
    "Now let's implement the gradient descent algorithm. At first, let's compute all the derivatives analytically"
   ],
   "metadata": {
    "name": "A slide ",
    "slideshow": {
     "slide_type": "slide"
    }
   }
  },
  {
   "outputs": [],
   "cell_type": "code",
   "source": [
    "function fit_gradient_descent(X,Y_obs; maxiter=50, λ_ini=10.0, γ=0.5)\n",
    "    λ = λ_ini      # initial approximation for λ\n",
    "    γ /= length(X) # correct for different objective\n",
    "    λ_hist    = [λ,]\n",
    "    conv_hist = [J(U(λ,X),Y_obs),]\n",
    "    for _ in 1:maxiter\n",
    "        ∂J_∂U = (U(λ,X).-Y_obs)'\n",
    "        dU_dλ = X\n",
    "        dJ_dλ = ∂J_∂U*dU_dλ\n",
    "        λ -= γ*dJ_dλ\n",
    "        push!(λ_hist,λ)\n",
    "        push!(conv_hist,J(U(λ,X),Y_obs))\n",
    "    end\n",
    "    return λ,λ_hist,conv_hist\n",
    "end"
   ],
   "metadata": {},
   "execution_count": null
  },
  {
   "cell_type": "markdown",
   "source": [
    "Fit the data using the developed function:"
   ],
   "metadata": {
    "name": "A slide ",
    "slideshow": {
     "slide_type": "slide"
    }
   }
  },
  {
   "outputs": [],
   "cell_type": "code",
   "source": [
    "λ_gd,λ_hist,conv_hist = fit_gradient_descent(X,Y_obs)\n",
    "@show λ_synth λ_lsq λ_gd"
   ],
   "metadata": {},
   "execution_count": null
  },
  {
   "cell_type": "markdown",
   "source": [
    "The gradient descent converged reasonably well to the least squares solution."
   ],
   "metadata": {
    "name": "A slide ",
    "slideshow": {
     "slide_type": "fragment"
    }
   }
  },
  {
   "cell_type": "markdown",
   "source": [
    "We saved the convergence history. Let's animate the algorithm:"
   ],
   "metadata": {
    "name": "A slide ",
    "slideshow": {
     "slide_type": "slide"
    }
   }
  },
  {
   "outputs": [],
   "cell_type": "code",
   "source": [
    "@gif for i in eachindex(λ_hist)\n",
    "    p1 = plot(X,Y_obs;\n",
    "        seriestype=:scatter,\n",
    "        label=\"data\",title=\"model\",\n",
    "        framestyle=:box,aspect_ratio=1/3,\n",
    "        xlims=(0,1),ylims=(0,3))\n",
    "    plot!(X,[U(λ_synth,X) U(λ_lsq,X) U(λ_hist[i],X)];\n",
    "        label=[\"synthetic\" \"least squares\" \"gradient descent\"],\n",
    "        lw=[1 2 2],ls=[:dot :solid :dash])\n",
    "    plot!(legend=:topleft)\n",
    "    p2 = plot(1:i,conv_hist[1:i];\n",
    "        label=false,title=\"convergence\",\n",
    "        framestyle=:box,yscale=:log10,minorgrid=true,\n",
    "        xlims=(0,length(conv_hist)),ylims=(0.1,10.0))\n",
    "    plot(p1,p2;layout=(1,2),size=(640,320))\n",
    "end"
   ],
   "metadata": {},
   "execution_count": null
  },
  {
   "cell_type": "markdown",
   "source": [
    "We now have the working gradient descent algorithm. However, we still don't use the automatic differentiation! Let's fix this. First, we import the `Zygote.jl` package:"
   ],
   "metadata": {
    "name": "A slide ",
    "slideshow": {
     "slide_type": "slide"
    }
   }
  },
  {
   "outputs": [],
   "cell_type": "code",
   "source": [
    "using Zygote"
   ],
   "metadata": {},
   "execution_count": null
  },
  {
   "cell_type": "markdown",
   "source": [
    "Try it out:"
   ],
   "metadata": {
    "name": "A slide ",
    "slideshow": {
     "slide_type": "fragment"
    }
   }
  },
  {
   "outputs": [],
   "cell_type": "code",
   "source": [
    "gradient(sin,π)"
   ],
   "metadata": {},
   "execution_count": null
  },
  {
   "cell_type": "markdown",
   "source": [
    "And modify the `fit_gradient_descent` funciton:"
   ],
   "metadata": {
    "name": "A slide ",
    "slideshow": {
     "slide_type": "fragment"
    }
   }
  },
  {
   "outputs": [],
   "cell_type": "code",
   "source": [
    "function fit_gradient_descent(X,Y_obs; maxiter=50, λ_ini=10.0, γ=0.5)\n",
    "    λ = λ_ini      # initial approximation for λ\n",
    "    γ /= length(X) # correct for different objective\n",
    "    λ_hist    = [λ,]\n",
    "    conv_hist = [J(U(λ,X),Y_obs),]\n",
    "    for _ in 1:maxiter\n",
    "        Y,back = pullback(U,λ,X)\n",
    "        ∂J_∂U  = Y.-Y_obs\n",
    "        dJ_dλ  = back(∂J_∂U)[1]\n",
    "        λ -= γ*dJ_dλ\n",
    "        push!(λ_hist,λ)\n",
    "        push!(conv_hist,J(U(λ,X),Y_obs))\n",
    "    end\n",
    "    return λ,λ_hist,conv_hist\n",
    "end"
   ],
   "metadata": {},
   "execution_count": null
  },
  {
   "cell_type": "markdown",
   "source": [
    "The `pullback` function takes the model function and its arguments, and returns the model value at that point and the pullback function, which computes the vector-Jacobian product (VJP) given the input vector."
   ],
   "metadata": {
    "name": "A slide ",
    "slideshow": {
     "slide_type": "slide"
    }
   }
  },
  {
   "cell_type": "markdown",
   "source": [
    "Re-run the training and plotting to make sure everything works as expected.\n",
    "\n",
    "🎉 Congrats, you've successfuly implemented a machine learning algorithm from scratch, using only the AD library!"
   ],
   "metadata": {
    "name": "A slide ",
    "slideshow": {
     "slide_type": "fragment"
    }
   }
  },
  {
   "cell_type": "markdown",
   "source": [
    "## What's next?\n",
    "\n",
    "By replacing the linear model with a 2D ice flow SIA solver, and using the adjoint trick, we can make inversions for SMB:\n",
    "\n",
    "![2D SIA inversion](figures/inverse_2D_sia.gif)\n",
    "\n",
    "This code runs completely on GPUs for both forward and adjoint problems.\n",
    "\n",
    "Check the code [here](https://github.com/PTsolvers/PT-AD/blob/main/scripts_ok/adjoint_nonlin_diff_react_2D_cuda.jl)"
   ],
   "metadata": {
    "name": "A slide ",
    "slideshow": {
     "slide_type": "slide"
    }
   }
  },
  {
   "cell_type": "markdown",
   "source": [
    "## Combining models\n",
    "\n",
    "💡 We can mix together several models to leverage the power of both physics-based and data-driven approaches:\n",
    "\n",
    "$$\n",
    "U(\\boldsymbol{X},\\boldsymbol{\\lambda}_1,\\boldsymbol{\\lambda}_2) = (U_2 \\circ U_1)(\\boldsymbol{X},\\boldsymbol{\\lambda}_1,\\boldsymbol{\\lambda}_2).\n",
    "$$\n",
    "\n",
    "Physics-informed artificial neural networks (PIANNs) are example of such combination.\n",
    "\n",
    "As long as both models are differentiable, we can compute gradients and run the training algorithm."
   ],
   "metadata": {
    "name": "A slide ",
    "slideshow": {
     "slide_type": "slide"
    }
   }
  },
  {
   "cell_type": "markdown",
   "source": [
    "## Outlook\n",
    "\n",
    "- Calculating gradients is an important building block for inverse modelling;\n",
    "- Differential programming in Julia enables automatic generation of adjoints;\n",
    "- We need to develop new tools to leverage new compiler technologies and unlock the full potential of latest hardware.\n",
    "\n",
    "\n",
    "> \"We believe that __future efforts should be taken towards physics-informed datascience glacier SMB and evolution modelling__. Adding physical constraints in ANNs ... would allow us to improve our understanding and confidence in predictions, to reduce our dependency on big datasets, and __to start bridging the gap between data science and physical methods.__\"\n",
    "\n",
    "<font size=\"4\">Bolibar, J. et al. \"Deep learning applied to glacier evolution modelling.\" _The Cryosphere_ (2020).</font>\n",
    "\n",
    "### Thank you for your attention!"
   ],
   "metadata": {
    "name": "A slide ",
    "slideshow": {
     "slide_type": "slide"
    }
   }
  },
  {
   "cell_type": "markdown",
   "source": [
    "---\n",
    "\n",
    "*This notebook was generated using [Literate.jl](https://github.com/fredrikekre/Literate.jl).*"
   ],
   "metadata": {}
  }
 ],
 "nbformat_minor": 3,
 "metadata": {
  "language_info": {
   "file_extension": ".jl",
   "mimetype": "application/julia",
   "name": "julia",
   "version": "1.8.3"
  },
  "kernelspec": {
   "name": "julia-1.8",
   "display_name": "Julia 1.8.3",
   "language": "julia"
  }
 },
 "nbformat": 4
}
